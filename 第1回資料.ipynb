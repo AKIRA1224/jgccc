{
 "cells": [
  {
   "cell_type": "code",
   "execution_count": 1,
   "id": "5832a4a2",
   "metadata": {
    "slideshow": {
     "slide_type": "notes"
    }
   },
   "outputs": [
    {
     "data": {
      "text/html": [
       "<link rel=\"stylesheet\" type=\"text/css\" href=\"custom.css\">\n"
      ],
      "text/plain": [
       "<IPython.core.display.HTML object>"
      ]
     },
     "metadata": {},
     "output_type": "display_data"
    }
   ],
   "source": [
    "%%HTML\n",
    "<link rel=\"stylesheet\" type=\"text/css\" href=\"custom.css\">"
   ]
  },
  {
   "cell_type": "markdown",
   "id": "fe5d64ef",
   "metadata": {
    "slideshow": {
     "slide_type": "slide"
    }
   },
   "source": [
    "<div style = \"text-align:center;\">\n",
    "\n",
    "<div style=\"text-align: center;\">\n",
    "</div>\n",
    "\n",
    "# 機械学習基礎講座  \n",
    "### 講師：中島　昭"
   ]
  },
  {
   "cell_type": "markdown",
   "id": "d658a040",
   "metadata": {
    "slideshow": {
     "slide_type": "slide"
    }
   },
   "source": [
    "## 本講座の目的"
   ]
  },
  {
   "cell_type": "markdown",
   "id": "98fb2967",
   "metadata": {
    "slideshow": {
     "slide_type": "fragment"
    }
   },
   "source": [
    "### ◆機械学習って何？"
   ]
  },
  {
   "cell_type": "markdown",
   "id": "b9ff6df8",
   "metadata": {
    "slideshow": {
     "slide_type": "fragment"
    }
   },
   "source": [
    "### ◆どういうことができるの？"
   ]
  },
  {
   "cell_type": "markdown",
   "id": "f8eb3f57",
   "metadata": {
    "slideshow": {
     "slide_type": "fragment"
    }
   },
   "source": [
    "### ◆どう使えばいいの？"
   ]
  },
  {
   "cell_type": "markdown",
   "id": "6ffd8773",
   "metadata": {
    "slideshow": {
     "slide_type": "fragment"
    }
   },
   "source": [
    "## このような疑問に対して、実際にPCでPythonをベースにした機械学習モジュールを動かしながら理解することを目的とします。"
   ]
  },
  {
   "cell_type": "markdown",
   "id": "b98718da",
   "metadata": {
    "slideshow": {
     "slide_type": "slide"
    }
   },
   "source": [
    "講義全体(3回)の流れ  \n",
    "◆第1回の講義内容：Pythonプログラミング  \n",
    "1.Pythonと機械学習：講義  \n",
    "2.Google Colab環境設定：実技  \n",
    "3.Pythonプログラミング入門  \n",
    "4.宿題：制御文とクラス  \n",
    "◆第2回の講義内容：機械学習用モジュールNumPy、Pandas、scikit-learnの使い方  \n",
    "1.NumPyの使い方  \n",
    "2.Pandasの使い方  \n",
    "3.scikit-learnを用いたデータ処理：タイタニック号乗客の「生・死」判定  \n",
    "4.宿題：Kaggleでの採点  \n",
    "◆第3回の講義内容：最適化と自然言語処理  \n",
    "1.数理最適化：ルート最適化  \n",
    "2.自然言語処理：アンケートの解析、特許解析  \n",
    "3.宿題：各自の特許解析  "
   ]
  },
  {
   "cell_type": "markdown",
   "id": "d9998b5f",
   "metadata": {
    "slideshow": {
     "slide_type": "slide"
    }
   },
   "source": [
    "<div style = \"text-align:center;\">\n",
    "\n",
    "<div style=\"text-align: center;\">\n",
    "</div>\n",
    "\n",
    "# 機械学習基礎講座  \n",
    "### 第1回　Pythonプログラミング"
   ]
  },
  {
   "cell_type": "markdown",
   "id": "87add0c9",
   "metadata": {
    "slideshow": {
     "slide_type": "slide"
    }
   },
   "source": [
    "1.Pythonと機械学習：pythonとは何、なぜpython？　機械学習って何？  \n",
    "2.環境構築：python、anaconda、googlecolab  \n",
    "3.実際にGoogle Colab設定  \n",
    "4.pythonプログラミング実習"
   ]
  },
  {
   "attachments": {
    "image.png": {
     "image/png": "[encoded data removed]"
    }
   },
   "cell_type": "markdown",
   "id": "d199f2bc-6664-4bed-94b0-1de1f79e2ee5",
   "metadata": {
    "slideshow": {
     "slide_type": "slide"
    }
   },
   "source": [
    "![image.png](attachment:image.png)  \n",
    "Python：データ分析や機械学習のライブラリが豊富で広く使われている汎用のプログラミング言語"
   ]
  },
  {
   "cell_type": "markdown",
   "id": "bbd52b0a-dc90-4f8b-a5fd-38b3e4879af7",
   "metadata": {
    "slideshow": {
     "slide_type": "fragment"
    }
   },
   "source": [
    "開発者：Guido van Rossum(オランダ出身)、1989年12月に趣味の延長としてプログラミング言語 Python の開発を始め、1991年に発表  \n",
    "名前の由来はBBCのコメディ番組「モンティ・パイソン」にちなんだとされている。2005年Google社入社、2012年Dropbox社へ移る。2019年末引退。"
   ]
  },
  {
   "cell_type": "markdown",
   "id": "24df0f5f-3a71-4b2a-8eb8-75d5fa69ae74",
   "metadata": {
    "slideshow": {
     "slide_type": "slide"
    }
   },
   "source": [
    "Pythonの特徴：シンプルで読みやすい、インデントによるブロック表現、機械学習用のライブラリが豊富"
   ]
  },
  {
   "cell_type": "markdown",
   "id": "76dcfaca-d235-4c39-b80d-a57a1b7a5e4b",
   "metadata": {
    "slideshow": {
     "slide_type": "fragment"
    }
   },
   "source": [
    "Python2系はバージョン2.7で2020年1月1日にサポート終了。  \n",
    "Python3系は2008年にリリースされ、最新バージョンは3.9.5　⇒　3.9.6  \n",
    "コミュニティが主体となって開発が続けられているフリーのオープンソースソフトウェア"
   ]
  },
  {
   "cell_type": "markdown",
   "id": "f0c110a5-7978-472e-b301-47c8ff63e248",
   "metadata": {
    "slideshow": {
     "slide_type": "slide"
    }
   },
   "source": [
    "##  1. Pythonと機械学習"
   ]
  },
  {
   "cell_type": "markdown",
   "id": "59609ca0-a993-4c78-9af8-24cace23d761",
   "metadata": {
    "slideshow": {
     "slide_type": "slide"
    }
   },
   "source": [
    "初期：人間が記述した「もし～なら、でなければ」制御文によるデータ処理・・例)SPAMメール処理"
   ]
  },
  {
   "cell_type": "markdown",
   "id": "4ceb8c8d-1df2-4f98-8ed5-b8b709af386d",
   "metadata": {
    "slideshow": {
     "slide_type": "fragment"
    }
   },
   "source": [
    "タスクが変わるとシステム全体を書き直さなければならない"
   ]
  },
  {
   "cell_type": "markdown",
   "id": "7cd00db9-5a93-4ea5-83d2-4c14fadcb3c5",
   "metadata": {
    "slideshow": {
     "slide_type": "fragment"
    }
   },
   "source": [
    "設計する人間の習熟度に依存する"
   ]
  },
  {
   "cell_type": "markdown",
   "id": "8b3eb1b2-45a5-4f35-94ce-d4a314c06fc9",
   "metadata": {
    "slideshow": {
     "slide_type": "fragment"
    }
   },
   "source": [
    "機械学習アルゴリズムによる汎化：教師あり学習・・ユーザーが入力データと出力のペアをアルゴリズムに与え、アルゴリズムは入力から望ましい出力を生成する方法を発見する"
   ]
  },
  {
   "cell_type": "markdown",
   "id": "317cbbd6-e62b-4f7e-a863-0fbfaf216acc",
   "metadata": {
    "slideshow": {
     "slide_type": "slide"
    }
   },
   "source": [
    "## 教師あり学習の例(回帰、分類)"
   ]
  },
  {
   "cell_type": "markdown",
   "id": "66c095b6-17f7-4bc2-8f27-14383b8356e6",
   "metadata": {
    "slideshow": {
     "slide_type": "fragment"
    }
   },
   "source": [
    "手書き数字の読み取り"
   ]
  },
  {
   "cell_type": "markdown",
   "id": "a9a6d2b8-fbb6-434e-946d-bd7559e35b5a",
   "metadata": {
    "slideshow": {
     "slide_type": "fragment"
    }
   },
   "source": [
    "腫瘍画像から良性・悪性の診断"
   ]
  },
  {
   "cell_type": "markdown",
   "id": "7dc662ce-c3b3-4a29-a571-3d489d16dc2b",
   "metadata": {
    "slideshow": {
     "slide_type": "slide"
    }
   },
   "source": [
    "## 教師なし学習(クラスタリング、主成分分析)・・入力データだけが与えられており出力データは与えられない"
   ]
  },
  {
   "cell_type": "markdown",
   "id": "2857d2f8-c754-49a2-a90d-b19f69595742",
   "metadata": {
    "slideshow": {
     "slide_type": "fragment"
    }
   },
   "source": [
    "テキストデータからトピックの特定"
   ]
  },
  {
   "cell_type": "markdown",
   "id": "77370f34-2ce9-44da-8f17-8d721c69edf1",
   "metadata": {
    "slideshow": {
     "slide_type": "fragment"
    }
   },
   "source": [
    "顧客の購買動向からグループ分類"
   ]
  },
  {
   "cell_type": "markdown",
   "id": "462d0ee5-8a68-44d0-a348-42259d02626c",
   "metadata": {
    "slideshow": {
     "slide_type": "slide"
    }
   },
   "source": [
    "## 強化学習(ディープラーニング)・・目的として与えられた報酬を最大化するモデルを学習する。自律的に特徴量を抽出、制御できる。"
   ]
  },
  {
   "cell_type": "markdown",
   "id": "84b2429c-ff69-4782-9d60-a7c00271b466",
   "metadata": {
    "slideshow": {
     "slide_type": "fragment"
    }
   },
   "source": [
    "ロボットの歩行制御：歩行できる距離を報酬として与える"
   ]
  },
  {
   "attachments": {
    "fc508b6c-9520-4cfa-bd27-92776d2e86f6.png": {
     "image/png": "[encoded data removed]"
    }
   },
   "cell_type": "markdown",
   "id": "8ab00005-a529-4360-9d8b-9d28b228d269",
   "metadata": {
    "slideshow": {
     "slide_type": "slide"
    }
   },
   "source": [
    "![image.png](attachment:fc508b6c-9520-4cfa-bd27-92776d2e86f6.png)"
   ]
  },
  {
   "cell_type": "markdown",
   "id": "9c579dfb-8d26-46df-8103-222546245790",
   "metadata": {
    "slideshow": {
     "slide_type": "slide"
    }
   },
   "source": [
    "## なぜPython？・・データのロード、可視化、統計処理、自然言語処理、画像処理などのライブラリが豊富"
   ]
  },
  {
   "cell_type": "markdown",
   "id": "6b03adda-e059-40d1-ad94-a404a4846ed4",
   "metadata": {
    "slideshow": {
     "slide_type": "fragment"
    }
   },
   "source": [
    "対話型(インタラクティブ）ツールを用いて容易にコードに触れることができる：「jupyter notebook」"
   ]
  },
  {
   "cell_type": "code",
   "execution_count": 3,
   "id": "e8621b17-ef61-4e18-b667-836e72097ceb",
   "metadata": {},
   "outputs": [
    {
     "name": "stdout",
     "output_type": "stream",
     "text": [
      "Tokyo 2020\n"
     ]
    }
   ],
   "source": [
    "print('Tokyo 2020')"
   ]
  },
  {
   "cell_type": "markdown",
   "id": "f286f27c-695f-4b09-9bb1-41d46caa1e79",
   "metadata": {
    "slideshow": {
     "slide_type": "slide"
    }
   },
   "source": [
    "### Pythonを用いた機械学習の流れ"
   ]
  },
  {
   "cell_type": "markdown",
   "id": "8c4eed7d-2e53-4c29-bf21-de90f3829890",
   "metadata": {
    "slideshow": {
     "slide_type": "slide"
    }
   },
   "source": [
    "### Pythonの基礎スキル"
   ]
  },
  {
   "cell_type": "markdown",
   "id": "e08f032c-5518-4be6-9019-fe7ce3a6d7eb",
   "metadata": {
    "slideshow": {
     "slide_type": "fragment"
    }
   },
   "source": [
    "### データの整理：NumPy＆Pandas"
   ]
  },
  {
   "cell_type": "markdown",
   "id": "c2310059-b34c-403a-8e11-aa199e4e7faa",
   "metadata": {
    "slideshow": {
     "slide_type": "fragment"
    }
   },
   "source": [
    "### データの可視化：Matpltlib＆Seaborn(Bokeh、Plotlyはインタラクティブに動かせる)"
   ]
  },
  {
   "cell_type": "markdown",
   "id": "eeb10e9f-7da5-404c-b6e7-6ca3bd3111f7",
   "metadata": {
    "slideshow": {
     "slide_type": "fragment"
    }
   },
   "source": [
    "### データの前処理：NumPy、Pandas＆Scikit-learn"
   ]
  },
  {
   "cell_type": "markdown",
   "id": "fb010e9a-9a65-45df-bffe-55702743ba6f",
   "metadata": {
    "slideshow": {
     "slide_type": "fragment"
    }
   },
   "source": [
    "### 機械学習モデルの構築と予測・評価：Scikit-learn"
   ]
  },
  {
   "cell_type": "markdown",
   "id": "3258ee48-6252-4a4b-b409-83c206ac9e8b",
   "metadata": {
    "slideshow": {
     "slide_type": "slide"
    }
   },
   "source": [
    "## 2. Google Colab 環境設定"
   ]
  },
  {
   "cell_type": "markdown",
   "id": "e9ccbc5a-6468-4adf-b365-3f6b6ad4fb1e",
   "metadata": {
    "slideshow": {
     "slide_type": "slide"
    }
   },
   "source": [
    "Windows：Anaconda３のインストール＆conda仮想環境  \n",
    "Mac：Homebrew導入後PythonをHomebrewでインストール＆venv仮想環境"
   ]
  },
  {
   "cell_type": "markdown",
   "id": "3bc506b2-ca57-473d-b044-56bec167ee0c",
   "metadata": {
    "slideshow": {
     "slide_type": "fragment"
    }
   },
   "source": [
    "Google Colaboratory:ブラウザから直接 Python を記述、実行できるサービス\n",
    "- 環境構築が不要\n",
    "- GPU への無料アクセス\n",
    "- 簡単に共有  \n",
    "- !pip でモジュール追加・・90分/12時間ルール"
   ]
  },
  {
   "cell_type": "markdown",
   "id": "97cd42fe-42b3-46e8-86b5-d86df917e30e",
   "metadata": {
    "slideshow": {
     "slide_type": "slide"
    }
   },
   "source": [
    "## Google Colaboratory　の実行環境設定"
   ]
  },
  {
   "cell_type": "markdown",
   "id": "553b071b-f4e7-4069-b11c-cfaaf70d8d9d",
   "metadata": {
    "slideshow": {
     "slide_type": "slide"
    }
   },
   "source": [
    "1.Googleアカウントの取得：nakashima.akira.jgccc10073@gmail.com"
   ]
  },
  {
   "cell_type": "markdown",
   "id": "36b2f40c-94f5-4f98-a0d1-7c283bb1ab2e",
   "metadata": {
    "slideshow": {
     "slide_type": "fragment"
    }
   },
   "source": [
    "2.Google Colaboratoryを開く・・「Colaboratoryへようこそ」のページ"
   ]
  },
  {
   "cell_type": "markdown",
   "id": "b43b3465-48e4-40e0-83b8-86ee11a1b224",
   "metadata": {
    "slideshow": {
     "slide_type": "fragment"
    }
   },
   "source": [
    "3.ファイル　⇒　ノートブックを新規作成"
   ]
  },
  {
   "cell_type": "markdown",
   "id": "b705f2c5-71ef-4eb4-9a3e-cca674c2a63a",
   "metadata": {
    "slideshow": {
     "slide_type": "fragment"
    }
   },
   "source": [
    "4.from google.colab import drive  \n",
    "drive.mount('/content/drive')　を入力して実行(シフト＋エンター)"
   ]
  },
  {
   "cell_type": "markdown",
   "id": "63ecca23-0ad5-413d-953f-07a4b82d5388",
   "metadata": {
    "slideshow": {
     "slide_type": "fragment"
    }
   },
   "source": [
    "5.URLが表示されるのでクリック"
   ]
  },
  {
   "cell_type": "markdown",
   "id": "1ae03b4b-5027-411e-a0e5-6a83136ab2a5",
   "metadata": {
    "slideshow": {
     "slide_type": "slide"
    }
   },
   "source": [
    "6.Googleアカウントが表示されるので複数のアカウントを持っていれば使用するアカウントを選択し、アクセスの許可をクリック"
   ]
  },
  {
   "cell_type": "markdown",
   "id": "7f4ac2b4-a75a-4903-a56e-0ad36391f809",
   "metadata": {
    "slideshow": {
     "slide_type": "fragment"
    }
   },
   "source": [
    "7.ログインコードが表示されるのでコピーしてnotebookのタブの空欄に貼り付ける（Ctrl＋V）"
   ]
  },
  {
   "cell_type": "markdown",
   "id": "b346a0cb-8ebb-478e-b0f7-2b41b75580f1",
   "metadata": {
    "slideshow": {
     "slide_type": "fragment"
    }
   },
   "source": [
    "8.SHIFT+ENTERでセルを実行。Mounted at /content/driveが表示されれば完了"
   ]
  },
  {
   "cell_type": "markdown",
   "id": "979303f4-a1b4-4fcd-930b-2c42a070a1b4",
   "metadata": {
    "slideshow": {
     "slide_type": "slide"
    }
   },
   "source": [
    "9.パスは '/content/drive/My drive/'になる"
   ]
  },
  {
   "cell_type": "markdown",
   "id": "2ebb516a-4b49-4b63-884f-de8b5f77229a",
   "metadata": {
    "slideshow": {
     "slide_type": "fragment"
    }
   },
   "source": [
    "10.画面左端のファイル(フォルダーの形)をクリックしてタブ上部のドライブのマウントをクリックしてドライブを使えるようにする"
   ]
  },
  {
   "cell_type": "markdown",
   "id": "f678d22c-ead2-4fab-afe5-cef4c8c52b06",
   "metadata": {
    "slideshow": {
     "slide_type": "slide"
    }
   },
   "source": [
    "最初はお決まりのコードを書いて実行してみましょう"
   ]
  },
  {
   "cell_type": "code",
   "execution_count": 2,
   "id": "61aa2775-07cb-4a2c-a390-06c0ee41657c",
   "metadata": {},
   "outputs": [
    {
     "name": "stdout",
     "output_type": "stream",
     "text": [
      "hello world\n"
     ]
    }
   ],
   "source": [
    "print('hello world')"
   ]
  },
  {
   "cell_type": "markdown",
   "id": "8aa4c63f-519f-4c03-b1b8-e7bb54e3c34e",
   "metadata": {
    "slideshow": {
     "slide_type": "slide"
    }
   },
   "source": [
    "1つの四角をセルと呼び、セル単位で実行(左の実行アイコンかシフト＋エンター）できます"
   ]
  },
  {
   "cell_type": "code",
   "execution_count": 3,
   "id": "83b332f1-d45e-4590-af4e-cee76ff35f73",
   "metadata": {},
   "outputs": [
    {
     "data": {
      "text/plain": [
       "30"
      ]
     },
     "execution_count": 3,
     "metadata": {},
     "output_type": "execute_result"
    }
   ],
   "source": [
    "10 + 20"
   ]
  },
  {
   "cell_type": "markdown",
   "id": "482b9f16-a116-47ca-aff4-94e340c560b2",
   "metadata": {
    "slideshow": {
     "slide_type": "fragment"
    }
   },
   "source": [
    "セルの右側にはセル操作パレットがあります"
   ]
  },
  {
   "cell_type": "markdown",
   "id": "a852e586-092d-46ff-b56b-be4b21c750ed",
   "metadata": {
    "slideshow": {
     "slide_type": "fragment"
    }
   },
   "source": [
    "＋コード　＋テキスト　でセルへの入力切替ができます"
   ]
  },
  {
   "cell_type": "markdown",
   "id": "67f1b4c7-1121-46b6-a720-f9282a93dda9",
   "metadata": {
    "slideshow": {
     "slide_type": "slide"
    }
   },
   "source": [
    "## 3. Pythonプログラミング入門"
   ]
  },
  {
   "cell_type": "markdown",
   "id": "483ae2d4-ad0d-4bfa-8f89-1950a1ece9cc",
   "metadata": {
    "slideshow": {
     "slide_type": "slide"
    }
   },
   "source": [
    "### 3-1. 変数"
   ]
  },
  {
   "cell_type": "markdown",
   "id": "ab3e22ca-fd4d-47a9-93b4-3fcd5478b08a",
   "metadata": {
    "slideshow": {
     "slide_type": "fragment"
    }
   },
   "source": [
    "### 3-2. データの型"
   ]
  },
  {
   "cell_type": "markdown",
   "id": "e913e1d8-88a4-412d-90cf-14db4ef212ae",
   "metadata": {
    "slideshow": {
     "slide_type": "fragment"
    }
   },
   "source": [
    "### 3-3. 制御文"
   ]
  },
  {
   "cell_type": "markdown",
   "id": "566cf349-4769-49b1-9270-3752d4a03420",
   "metadata": {
    "slideshow": {
     "slide_type": "fragment"
    }
   },
   "source": [
    "### 3-4. 関数"
   ]
  },
  {
   "cell_type": "markdown",
   "id": "cb54edd9-e11c-4e24-abae-1d73024cf5df",
   "metadata": {
    "slideshow": {
     "slide_type": "fragment"
    }
   },
   "source": [
    "### 3-5. クラス"
   ]
  },
  {
   "cell_type": "markdown",
   "id": "7a3cc953-78f5-4827-af2f-22b2ec2f55ba",
   "metadata": {
    "slideshow": {
     "slide_type": "slide"
    }
   },
   "source": [
    "### 3-1. 変数"
   ]
  },
  {
   "cell_type": "markdown",
   "id": "fde482d8-39e8-4752-92d9-ae25b6c3be91",
   "metadata": {
    "slideshow": {
     "slide_type": "slide"
    }
   },
   "source": [
    "変数：データにアクセスするためにつける名前  \n",
    "変数宣言：「=」を使う"
   ]
  },
  {
   "cell_type": "code",
   "execution_count": 4,
   "id": "394e070f-1910-4ca3-8ac7-89caba827bdd",
   "metadata": {},
   "outputs": [],
   "source": [
    "x = 10"
   ]
  },
  {
   "cell_type": "markdown",
   "id": "ba52321f-1a82-4d61-95cb-708f65dc9dc6",
   "metadata": {
    "slideshow": {
     "slide_type": "fragment"
    }
   },
   "source": [
    "変数の中身を確認するためには"
   ]
  },
  {
   "cell_type": "code",
   "execution_count": 5,
   "id": "12503f21-dcb1-4f4d-affa-1b9b7c6dd4a8",
   "metadata": {},
   "outputs": [
    {
     "name": "stdout",
     "output_type": "stream",
     "text": [
      "10\n"
     ]
    }
   ],
   "source": [
    "print(x)"
   ]
  },
  {
   "cell_type": "code",
   "execution_count": 6,
   "id": "a36b8382-58a4-44e3-b0bf-6375031d7e6e",
   "metadata": {},
   "outputs": [
    {
     "name": "stdout",
     "output_type": "stream",
     "text": [
      "hello world\n"
     ]
    }
   ],
   "source": [
    "y = 'hello world'\n",
    "print(y)"
   ]
  },
  {
   "cell_type": "markdown",
   "id": "3c2633fd-54f5-49ba-8cac-9cc54e7a048d",
   "metadata": {
    "slideshow": {
     "slide_type": "slide"
    }
   },
   "source": [
    "変数に対する計算"
   ]
  },
  {
   "cell_type": "code",
   "execution_count": 9,
   "id": "a930a08b-9256-4a07-8fe4-4348586ba6cd",
   "metadata": {},
   "outputs": [
    {
     "data": {
      "text/plain": [
       "15"
      ]
     },
     "execution_count": 9,
     "metadata": {},
     "output_type": "execute_result"
    }
   ],
   "source": [
    "x + 5"
   ]
  },
  {
   "cell_type": "code",
   "execution_count": 10,
   "id": "334375b2-ba8a-4601-9118-9c277eb42c45",
   "metadata": {},
   "outputs": [
    {
     "name": "stdout",
     "output_type": "stream",
     "text": [
      "20\n"
     ]
    }
   ],
   "source": [
    "y = x +10\n",
    "print(y)"
   ]
  },
  {
   "cell_type": "code",
   "execution_count": 11,
   "id": "f5702dce-a960-4df9-856a-cdb9bc2335c2",
   "metadata": {},
   "outputs": [
    {
     "name": "stdout",
     "output_type": "stream",
     "text": [
      "2\n",
      "8\n"
     ]
    }
   ],
   "source": [
    "print(12 % 10) # 12 ÷ 10の剰余\n",
    "print(2**3) # 2の3乗"
   ]
  },
  {
   "cell_type": "markdown",
   "id": "f704cf5b-b8ee-4ec4-87ac-c152d079b3c4",
   "metadata": {
    "slideshow": {
     "slide_type": "slide"
    }
   },
   "source": [
    "|演算の種類|記号|\n",
    "|  :--:  | :--: |\n",
    "|  加算  |　＋　|\n",
    "|  減算  |　－　|\n",
    "|  乗算  |　＊　|\n",
    "|  除算  |　/　 |\n",
    "|   商 　|　//　|\n",
    "|  剰余  |　％　|\n",
    "|  累乗  |　**　|\n",
    "|加算代入|　+=　|\n",
    "|減算代入|　-=　|"
   ]
  },
  {
   "cell_type": "markdown",
   "id": "6448f8a0-0cc0-4427-afc3-ccbec9e3630e",
   "metadata": {
    "slideshow": {
     "slide_type": "slide"
    }
   },
   "source": [
    "問題1  \n",
    "value1 = 1.5, value2 = 45　とする。  \n",
    "value2 ÷ (value1 × value1) を answer_value に代入し  \n",
    "answer_value の値を出力せよ。"
   ]
  },
  {
   "cell_type": "code",
   "execution_count": 12,
   "id": "4fc51d12-89a1-4dd7-a2d0-2a9d556bf13c",
   "metadata": {},
   "outputs": [
    {
     "name": "stdout",
     "output_type": "stream",
     "text": [
      "20.0\n"
     ]
    }
   ],
   "source": [
    "value1 = 1.5\n",
    "value2 = 45\n",
    "answer_value = value2 / (value1 * value1)\n",
    "print(answer_value)"
   ]
  },
  {
   "cell_type": "markdown",
   "id": "f2bc4201-ed41-41d0-9f89-e6f6f20a33bc",
   "metadata": {
    "slideshow": {
     "slide_type": "slide"
    }
   },
   "source": [
    "### 3-2. データの型"
   ]
  },
  {
   "cell_type": "markdown",
   "id": "6dc9cd99",
   "metadata": {
    "slideshow": {
     "slide_type": "slide"
    }
   },
   "source": [
    "int(integer)：整数を扱う　1、4、-6  \n",
    "float：実数を扱う　0.3、3.14、-12.6  \n",
    "str(string)：文字列を扱う　'文字'、'モノ大'、\"モノ大\"・・シングルもダブルも同じ扱い"
   ]
  },
  {
   "cell_type": "markdown",
   "id": "e7948b40",
   "metadata": {
    "slideshow": {
     "slide_type": "slide"
    }
   },
   "source": [
    "int型同士"
   ]
  },
  {
   "cell_type": "code",
   "execution_count": 2,
   "id": "140bc659",
   "metadata": {},
   "outputs": [
    {
     "data": {
      "text/plain": [
       "7"
      ]
     },
     "execution_count": 2,
     "metadata": {},
     "output_type": "execute_result"
    }
   ],
   "source": [
    "3 + 4"
   ]
  },
  {
   "cell_type": "markdown",
   "id": "afa3883d",
   "metadata": {},
   "source": [
    "int型とfloat型の計算"
   ]
  },
  {
   "cell_type": "code",
   "execution_count": 14,
   "id": "25fdabb8",
   "metadata": {},
   "outputs": [
    {
     "name": "stdout",
     "output_type": "stream",
     "text": [
      "14.0\n"
     ]
    }
   ],
   "source": [
    "x = 35\n",
    "y = 2.5\n",
    "z = x / y\n",
    "print(z)"
   ]
  },
  {
   "cell_type": "markdown",
   "id": "0c730f5f",
   "metadata": {
    "slideshow": {
     "slide_type": "slide"
    }
   },
   "source": [
    "float型とstr型"
   ]
  },
  {
   "cell_type": "code",
   "execution_count": 6,
   "id": "be9f4cca",
   "metadata": {
    "scrolled": true
   },
   "outputs": [
    {
     "ename": "TypeError",
     "evalue": "unsupported operand type(s) for +: 'float' and 'str'",
     "output_type": "error",
     "traceback": [
      "\u001b[1;31m---------------------------------------------------------------------------\u001b[0m",
      "\u001b[1;31mTypeError\u001b[0m                                 Traceback (most recent call last)",
      "\u001b[1;32m<ipython-input-6-8fec6cbe3d1c>\u001b[0m in \u001b[0;36m<module>\u001b[1;34m\u001b[0m\n\u001b[1;32m----> 1\u001b[1;33m \u001b[1;36m2.3\u001b[0m \u001b[1;33m+\u001b[0m \u001b[1;34m'周期'\u001b[0m\u001b[1;33m\u001b[0m\u001b[1;33m\u001b[0m\u001b[0m\n\u001b[0m",
      "\u001b[1;31mTypeError\u001b[0m: unsupported operand type(s) for +: 'float' and 'str'"
     ]
    }
   ],
   "source": [
    "2.3 + '周期'"
   ]
  },
  {
   "cell_type": "code",
   "execution_count": 10,
   "id": "0ebc9c98",
   "metadata": {},
   "outputs": [
    {
     "name": "stdout",
     "output_type": "stream",
     "text": [
      "2.3周期\n"
     ]
    }
   ],
   "source": [
    "a = str(2.3) + '周期'\n",
    "print(a)"
   ]
  },
  {
   "cell_type": "markdown",
   "id": "2dc75448",
   "metadata": {
    "slideshow": {
     "slide_type": "slide"
    }
   },
   "source": [
    "型の確認：type()"
   ]
  },
  {
   "cell_type": "code",
   "execution_count": 17,
   "id": "f945b559",
   "metadata": {},
   "outputs": [
    {
     "data": {
      "text/plain": [
       "(float, str)"
      ]
     },
     "execution_count": 17,
     "metadata": {},
     "output_type": "execute_result"
    }
   ],
   "source": [
    "type(z), type(a)"
   ]
  },
  {
   "cell_type": "markdown",
   "id": "e30fc6e7",
   "metadata": {
    "slideshow": {
     "slide_type": "slide"
    }
   },
   "source": [
    "データを入れる箱の型：  \n",
    "リスト  \n",
    "辞書  \n",
    "タプル  \n",
    "セット  "
   ]
  },
  {
   "cell_type": "markdown",
   "id": "efd69a62",
   "metadata": {
    "slideshow": {
     "slide_type": "slide"
    }
   },
   "source": [
    "リスト：複数のデータにインデックス番号(順番)を付けてまとめたデータ型  \n",
    "[ ]を使って表す"
   ]
  },
  {
   "cell_type": "code",
   "execution_count": 9,
   "id": "ff267ad3",
   "metadata": {},
   "outputs": [
    {
     "name": "stdout",
     "output_type": "stream",
     "text": [
      "['ソフトバンク', 'ロッテ', 'オリックス', '西武']\n",
      "<class 'list'>\n"
     ]
    }
   ],
   "source": [
    "pacific_league = ['ソフトバンク', 'ロッテ', 'オリックス', '西武']\n",
    "print(pacific_league)\n",
    "print(type(pacific_league))"
   ]
  },
  {
   "cell_type": "markdown",
   "id": "a5a3c8e5",
   "metadata": {
    "slideshow": {
     "slide_type": "slide"
    }
   },
   "source": [
    "リスト内のデータ参照  \n",
    "インデックス番号はゼロから指定する"
   ]
  },
  {
   "cell_type": "code",
   "execution_count": 10,
   "id": "104baa86",
   "metadata": {},
   "outputs": [
    {
     "name": "stdout",
     "output_type": "stream",
     "text": [
      "ソフトバンク\n",
      "['ロッテ', 'オリックス']\n"
     ]
    }
   ],
   "source": [
    "print(pacific_league[0])\n",
    "print(pacific_league[1:3]) #インデックス１から3の前まで"
   ]
  },
  {
   "cell_type": "markdown",
   "id": "1c5212dd",
   "metadata": {
    "slideshow": {
     "slide_type": "slide"
    }
   },
   "source": [
    "リストへのデータ追加：追加(append)、挿入(insert)、リストの結合(extend)、削除(remove)"
   ]
  },
  {
   "cell_type": "code",
   "execution_count": 11,
   "id": "fd8aa74d",
   "metadata": {},
   "outputs": [
    {
     "name": "stdout",
     "output_type": "stream",
     "text": [
      "['ソフトバンク', 'ロッテ', 'オリックス', '西武', '日本ハム']\n"
     ]
    }
   ],
   "source": [
    "pacific_league.append('日本ハム')\n",
    "print(pacific_league)"
   ]
  },
  {
   "cell_type": "code",
   "execution_count": 12,
   "id": "b1509c20",
   "metadata": {},
   "outputs": [
    {
     "name": "stdout",
     "output_type": "stream",
     "text": [
      "['ソフトバンク', 'ロッテ', 'オリックス', '楽天', '西武', '日本ハム']\n"
     ]
    }
   ],
   "source": [
    "pacific_league.insert(3, '楽天')\n",
    "print(pacific_league)"
   ]
  },
  {
   "cell_type": "code",
   "execution_count": 13,
   "id": "24d0a3c8",
   "metadata": {},
   "outputs": [
    {
     "name": "stdout",
     "output_type": "stream",
     "text": [
      "['ソフトバンク', 'ロッテ', 'オリックス', '楽天', '西武', '日本ハム', '巨人', '阪神']\n"
     ]
    }
   ],
   "source": [
    "pacific_league.extend(['巨人', '阪神'])\n",
    "print(pacific_league)"
   ]
  },
  {
   "cell_type": "code",
   "execution_count": 14,
   "id": "b78d92cf",
   "metadata": {},
   "outputs": [
    {
     "name": "stdout",
     "output_type": "stream",
     "text": [
      "['ソフトバンク', 'ロッテ', 'オリックス', '楽天', '西武', '日本ハム', '阪神']\n"
     ]
    }
   ],
   "source": [
    "pacific_league.remove('巨人')\n",
    "print(pacific_league)"
   ]
  },
  {
   "cell_type": "markdown",
   "id": "68ce786f",
   "metadata": {
    "slideshow": {
     "slide_type": "slide"
    }
   },
   "source": [
    "リスト内の要素の変更"
   ]
  },
  {
   "cell_type": "code",
   "execution_count": 15,
   "id": "182b3f6e",
   "metadata": {},
   "outputs": [
    {
     "name": "stdout",
     "output_type": "stream",
     "text": [
      "['ソフトバンク', 'ロッテ', 'オリックス', '楽天', '西武', '日本ハム', 'central_league']\n"
     ]
    }
   ],
   "source": [
    "pacific_league[6] = 'central_league'\n",
    "print(pacific_league)"
   ]
  },
  {
   "cell_type": "raw",
   "id": "1bd6bb87",
   "metadata": {},
   "source": [
    "リストは要素を変更可能：ミュータブルという"
   ]
  },
  {
   "cell_type": "markdown",
   "id": "3b670107",
   "metadata": {
    "slideshow": {
     "slide_type": "slide"
    }
   },
   "source": [
    "辞書：キーとバリューで構成されるデータ型  \n",
    "{ }　で表す  \n",
    "辞書名　＝　｛キー１:バリュー1, キー2:バリュー2,・・・・｝"
   ]
  },
  {
   "cell_type": "code",
   "execution_count": 16,
   "id": "99c41263",
   "metadata": {},
   "outputs": [
    {
     "name": "stdout",
     "output_type": "stream",
     "text": [
      "{'オリックス': 0.58, '楽天': 0.522, 'ソフトバンク': 0.515}\n",
      "<class 'dict'>\n"
     ]
    }
   ],
   "source": [
    "pacific_league_dict = {'オリックス': 0.580, '楽天': 0.522, 'ソフトバンク': 0.515}\n",
    "print(pacific_league_dict)\n",
    "print(type(pacific_league_dict))"
   ]
  },
  {
   "cell_type": "markdown",
   "id": "dcfbaa72",
   "metadata": {
    "slideshow": {
     "slide_type": "slide"
    }
   },
   "source": [
    "辞書内のデータ参照  \n",
    "参照したい値のキーを用いる"
   ]
  },
  {
   "cell_type": "code",
   "execution_count": 17,
   "id": "319d7243",
   "metadata": {},
   "outputs": [
    {
     "name": "stdout",
     "output_type": "stream",
     "text": [
      "0.515\n"
     ]
    }
   ],
   "source": [
    "print(pacific_league_dict['ソフトバンク'])"
   ]
  },
  {
   "cell_type": "markdown",
   "id": "24eb4e56",
   "metadata": {
    "slideshow": {
     "slide_type": "slide"
    }
   },
   "source": [
    "辞書へのデータの追加、削除、変更"
   ]
  },
  {
   "cell_type": "markdown",
   "id": "8e961d09",
   "metadata": {},
   "source": [
    "追加：辞書名[追加したい要素のキー] = 追加したい要素のバリュー"
   ]
  },
  {
   "cell_type": "code",
   "execution_count": 18,
   "id": "bcdb5161",
   "metadata": {},
   "outputs": [
    {
     "name": "stdout",
     "output_type": "stream",
     "text": [
      "{'オリックス': 0.58, '楽天': 0.522, 'ソフトバンク': 0.515, 'ロッテ': 0.508}\n"
     ]
    }
   ],
   "source": [
    "pacific_league_dict['ロッテ'] = 0.508\n",
    "print(pacific_league_dict)"
   ]
  },
  {
   "cell_type": "markdown",
   "id": "81ce09f8",
   "metadata": {},
   "source": [
    "削除：辞書名.pop(削除したい要素のキー)"
   ]
  },
  {
   "cell_type": "code",
   "execution_count": 19,
   "id": "0ba701f9",
   "metadata": {},
   "outputs": [
    {
     "name": "stdout",
     "output_type": "stream",
     "text": [
      "{'オリックス': 0.58, '楽天': 0.522, 'ソフトバンク': 0.515}\n"
     ]
    }
   ],
   "source": [
    "pacific_league_dict.pop('ロッテ')\n",
    "print(pacific_league_dict)"
   ]
  },
  {
   "cell_type": "markdown",
   "id": "805414aa",
   "metadata": {
    "slideshow": {
     "slide_type": "slide"
    }
   },
   "source": [
    "変更：辞書名[変更したい要素のキー]　= 変更したい要素のバリュー"
   ]
  },
  {
   "cell_type": "code",
   "execution_count": 20,
   "id": "b8dd8504",
   "metadata": {},
   "outputs": [
    {
     "name": "stdout",
     "output_type": "stream",
     "text": [
      "{'オリックス': 0.57, '楽天': 0.522, 'ソフトバンク': 0.515}\n"
     ]
    }
   ],
   "source": [
    "pacific_league_dict['オリックス'] = 0.570\n",
    "print(pacific_league_dict)"
   ]
  },
  {
   "cell_type": "markdown",
   "id": "66153c30",
   "metadata": {
    "slideshow": {
     "slide_type": "slide"
    }
   },
   "source": [
    "タプル：要素の変更ができないリスト  \n",
    "( )　で表す  \n",
    "追加、削除、変更ができない・・イミュータブルという"
   ]
  },
  {
   "cell_type": "code",
   "execution_count": 21,
   "id": "3cd2a2c3",
   "metadata": {},
   "outputs": [
    {
     "name": "stdout",
     "output_type": "stream",
     "text": [
      "('北海道', '仙台', '千葉', '福岡')\n",
      "<class 'tuple'>\n"
     ]
    }
   ],
   "source": [
    "pacific_league_tuple = ('北海道', '仙台', '千葉', '福岡')\n",
    "print(pacific_league_tuple)\n",
    "print(type(pacific_league_tuple))"
   ]
  },
  {
   "cell_type": "code",
   "execution_count": 22,
   "id": "790a948d",
   "metadata": {},
   "outputs": [
    {
     "name": "stdout",
     "output_type": "stream",
     "text": [
      "千葉\n"
     ]
    }
   ],
   "source": [
    "# 参照方法はリストと同じくインデックス番号\n",
    "print(pacific_league_tuple[2])"
   ]
  },
  {
   "cell_type": "markdown",
   "id": "1f369c8f",
   "metadata": {
    "slideshow": {
     "slide_type": "slide"
    }
   },
   "source": [
    "セット：重複した要素を持たない集合  \n",
    "{ }　で表す"
   ]
  },
  {
   "cell_type": "code",
   "execution_count": 23,
   "id": "31262cea",
   "metadata": {},
   "outputs": [
    {
     "name": "stdout",
     "output_type": "stream",
     "text": [
      "{'pacific_league', 130, 12, 'central_league'}\n",
      "<class 'set'>\n"
     ]
    }
   ],
   "source": [
    "NPB = {'pacific_league', 'central_league', 12, 130}\n",
    "print(NPB)\n",
    "print(type(NPB))"
   ]
  },
  {
   "cell_type": "code",
   "execution_count": 24,
   "id": "72080a28",
   "metadata": {},
   "outputs": [
    {
     "ename": "TypeError",
     "evalue": "'set' object is not subscriptable",
     "output_type": "error",
     "traceback": [
      "\u001b[1;31m---------------------------------------------------------------------------\u001b[0m",
      "\u001b[1;31mTypeError\u001b[0m                                 Traceback (most recent call last)",
      "\u001b[1;32m<ipython-input-24-593f64461649>\u001b[0m in \u001b[0;36m<module>\u001b[1;34m\u001b[0m\n\u001b[1;32m----> 1\u001b[1;33m \u001b[0mprint\u001b[0m\u001b[1;33m(\u001b[0m\u001b[0mNPB\u001b[0m\u001b[1;33m[\u001b[0m\u001b[1;36m2\u001b[0m\u001b[1;33m]\u001b[0m\u001b[1;33m)\u001b[0m\u001b[1;33m\u001b[0m\u001b[1;33m\u001b[0m\u001b[0m\n\u001b[0m",
      "\u001b[1;31mTypeError\u001b[0m: 'set' object is not subscriptable"
     ]
    }
   ],
   "source": [
    "print(NPB[2])"
   ]
  },
  {
   "cell_type": "markdown",
   "id": "a593e21d",
   "metadata": {
    "slideshow": {
     "slide_type": "slide"
    }
   },
   "source": [
    "問題2  \n",
    "パリーグの7月5日現在の順位は、1位オリックス：試合数79、40勝、29敗、引き分け10、2位楽天：試合数79、36勝、33敗、引き分け10となっている。  \n",
    "オリックスの成績を辞書で表すと以下のようになる。"
   ]
  },
  {
   "cell_type": "code",
   "execution_count": 2,
   "id": "c7fde666",
   "metadata": {},
   "outputs": [],
   "source": [
    "orix_dict = {'games': 79, 'wins': 40, 'losses': 29, 'draws': 10}"
   ]
  },
  {
   "cell_type": "markdown",
   "id": "fae08124-e1b6-4958-85f1-d56b49fcb9ed",
   "metadata": {
    "slideshow": {
     "slide_type": "slide"
    }
   },
   "source": [
    "1.楽天の成績を同じように辞書型で表現してください。"
   ]
  },
  {
   "cell_type": "code",
   "execution_count": 4,
   "id": "0c3320cd-ada5-4c51-9cd2-f067dbdd71a0",
   "metadata": {},
   "outputs": [],
   "source": [
    "# 1 楽天の成績\n",
    "rakuten_dict = {'games':79, 'wins':36, 'losses': 33, 'draws': 10}"
   ]
  },
  {
   "cell_type": "markdown",
   "id": "23a649a0-a33b-4bd9-b05d-aa6eced94e69",
   "metadata": {
    "slideshow": {
     "slide_type": "slide"
    }
   },
   "source": [
    "2.オリックス、楽天の勝率(win_rate)をそれぞれの辞書に追加してください。勝率＝勝ち数÷（試合数ー引き分け数)とします。"
   ]
  },
  {
   "cell_type": "code",
   "execution_count": 6,
   "id": "31ab6ac5-4bea-4420-acfa-d64cb0466afb",
   "metadata": {},
   "outputs": [
    {
     "name": "stdout",
     "output_type": "stream",
     "text": [
      "{'games': 79, 'wins': 40, 'losses': 29, 'draws': 10, 'win_rate': 0.5797101449275363}\n"
     ]
    }
   ],
   "source": [
    "# 2-1 オリックスの辞書に勝率追加\n",
    "orix_dict['win_rate'] = orix_dict['wins'] / (orix_dict['games'] - orix_dict['draws'])\n",
    "print(orix_dict)"
   ]
  },
  {
   "cell_type": "code",
   "execution_count": 7,
   "id": "729d4d61-882c-4872-8fbb-09ceaf4a832b",
   "metadata": {},
   "outputs": [
    {
     "name": "stdout",
     "output_type": "stream",
     "text": [
      "{'games': 79, 'wins': 36, 'losses': 33, 'draws': 10, 'win_rate': 0.5217391304347826}\n"
     ]
    }
   ],
   "source": [
    "# 2-2 楽天の辞書に勝率追加\n",
    "rakuten_dict['win_rate'] = rakuten_dict['wins'] / (rakuten_dict['games'] - rakuten_dict['draws'])\n",
    "print(rakuten_dict)"
   ]
  },
  {
   "cell_type": "markdown",
   "id": "84ce5ca9-3137-4ccf-bc42-1591aaf6f6dd",
   "metadata": {
    "slideshow": {
     "slide_type": "slide"
    }
   },
   "source": [
    "3.オリックスと楽天のゲーム差(games_behind)を求めてください。ゲーム差＝{(上位の勝ち数ー下位の勝ち数)＋(下位の負け数ー上位の負け数)}÷2"
   ]
  },
  {
   "cell_type": "code",
   "execution_count": 8,
   "id": "34c7ec4b-6128-4203-85c9-0c433856bd23",
   "metadata": {},
   "outputs": [
    {
     "name": "stdout",
     "output_type": "stream",
     "text": [
      "ゲーム差は4.0です\n"
     ]
    }
   ],
   "source": [
    "# 3 ゲーム差\n",
    "games_behind =((orix_dict['wins'] - rakuten_dict['wins']) + (rakuten_dict['losses'] - orix_dict['losses'])) / 2\n",
    "print('ゲーム差は' + str(games_behind) + 'です')"
   ]
  },
  {
   "cell_type": "markdown",
   "id": "54b2a0b5-2141-4e82-b5c8-167985b9acaa",
   "metadata": {
    "slideshow": {
     "slide_type": "slide"
    }
   },
   "source": [
    "問題3  \n",
    "機械学習で扱うモデルは「数値」しか読み込めません。以下の変数のうち「数値型」のものはどれですか。  \n",
    "①　x1 = 3.14  \n",
    "②　x2 = \"3.14\"  \n",
    "③　x3 = [3.14]  \n",
    "④　x4 = {'pi': 3.14}"
   ]
  },
  {
   "cell_type": "code",
   "execution_count": 10,
   "id": "f07b12a9-2b48-43b0-a289-90727617d741",
   "metadata": {
    "slideshow": {
     "slide_type": "fragment"
    }
   },
   "outputs": [],
   "source": [
    "x1 = 3.14\n",
    "x2 = \"3.14\"\n",
    "x3 = [3.14]\n",
    "x4 = {'pi': 3.14}"
   ]
  },
  {
   "cell_type": "code",
   "execution_count": 12,
   "id": "572ece1f-fd28-44dc-983b-d7177362bdec",
   "metadata": {
    "slideshow": {
     "slide_type": "slide"
    }
   },
   "outputs": [
    {
     "name": "stdout",
     "output_type": "stream",
     "text": [
      "<class 'float'>\n",
      "<class 'str'>\n",
      "<class 'list'>\n",
      "<class 'dict'>\n"
     ]
    }
   ],
   "source": [
    "print(type(x1))\n",
    "print(type(x2))\n",
    "print(type(x3))\n",
    "print(type(x4))"
   ]
  },
  {
   "cell_type": "markdown",
   "id": "6964c1b6-4344-477e-971c-d4566d700351",
   "metadata": {
    "slideshow": {
     "slide_type": "slide"
    }
   },
   "source": [
    "### 3-3. 制御文"
   ]
  },
  {
   "cell_type": "markdown",
   "id": "cef7a59b-ca9b-44c1-bc1e-4ce4328217fe",
   "metadata": {
    "slideshow": {
     "slide_type": "slide"
    }
   },
   "source": [
    "制御文：処理の自動化を行う"
   ]
  },
  {
   "cell_type": "markdown",
   "id": "4d2665b2-701c-4e30-8b1e-b33b4f1e2ec1",
   "metadata": {},
   "source": [
    "繰り返し：for文・while文・・・終了条件が満たされるまで同じ処理を繰り返す"
   ]
  },
  {
   "cell_type": "markdown",
   "id": "db33ed52-ff94-4e97-a894-95519e321bd7",
   "metadata": {},
   "source": [
    "条件分岐：if文・elif文・・・もしxxxxであれば(もしxxxxでなければ)、ある処理を実行する"
   ]
  },
  {
   "cell_type": "markdown",
   "id": "6b536f87-3f25-4443-bda0-cd08af38d7b7",
   "metadata": {
    "slideshow": {
     "slide_type": "slide"
    }
   },
   "source": [
    "for文：要素の数だけ同じ処理を繰り返す  \n",
    "for　変数　in　イテラブルなオブジェクト(リスト等の複数の要素を持ったオブジェクト)：  \n",
    "　　繰り返し処理"
   ]
  },
  {
   "cell_type": "code",
   "execution_count": 13,
   "id": "77f43777-4799-46c7-aed8-030b2742192f",
   "metadata": {},
   "outputs": [
    {
     "name": "stdout",
     "output_type": "stream",
     "text": [
      "変数iの値は1\n",
      "変数iの値は2\n",
      "変数iの値は3\n"
     ]
    }
   ],
   "source": [
    "items = [1, 2, 3]\n",
    "for i in items:\n",
    "    print(f'変数iの値は{i}')"
   ]
  },
  {
   "cell_type": "markdown",
   "id": "cebba6cc-d1ae-4d6d-8537-35e5b91b296f",
   "metadata": {
    "slideshow": {
     "slide_type": "slide"
    }
   },
   "source": [
    "for文でよく使われる組み込み関数：range(n)・・整数nを渡すと０からn-1までの整数を順に繰り返す"
   ]
  },
  {
   "cell_type": "code",
   "execution_count": 14,
   "id": "a28bdc1f-94f0-4fd3-a8ff-8a13cc074b5b",
   "metadata": {},
   "outputs": [
    {
     "name": "stdout",
     "output_type": "stream",
     "text": [
      "0番目の処理です\n",
      "1番目の処理です\n",
      "2番目の処理です\n",
      "3番目の処理です\n",
      "4番目の処理です\n"
     ]
    }
   ],
   "source": [
    "for i in range(5):\n",
    "    print(f'{i}番目の処理です')"
   ]
  },
  {
   "cell_type": "markdown",
   "id": "cf0b3905-cecb-4ffc-95b6-a6a545cf46dd",
   "metadata": {
    "slideshow": {
     "slide_type": "slide"
    }
   },
   "source": [
    "for文でよく使われる組み込み関数：enumerate(イテラブルなオブジェクト)・・各要素といっしょに繰り返しのカウントを返す"
   ]
  },
  {
   "cell_type": "code",
   "execution_count": 18,
   "id": "dbe89e81-0c62-4940-81b4-258c10e421d7",
   "metadata": {},
   "outputs": [
    {
     "name": "stdout",
     "output_type": "stream",
     "text": [
      "0番目の文字はM\n",
      "1番目の文字はO\n",
      "2番目の文字はN\n",
      "3番目の文字はO\n",
      "4番目の文字はD\n",
      "5番目の文字はA\n",
      "6番目の文字はI\n"
     ]
    }
   ],
   "source": [
    "character = 'MONODAI'\n",
    "for i, cha in enumerate(character):\n",
    "    print(f'{i}番目の文字は{cha}')"
   ]
  },
  {
   "cell_type": "markdown",
   "id": "7fa8c097-8190-4609-816a-5008af1e2399",
   "metadata": {
    "slideshow": {
     "slide_type": "slide"
    }
   },
   "source": [
    "while文：条件を指定した処理の繰り返し  \n",
    "while 条件式：  \n",
    "　　　繰り返し処理"
   ]
  },
  {
   "cell_type": "code",
   "execution_count": 22,
   "id": "d6902e02-bbb5-42d0-83de-ff3ac4433241",
   "metadata": {},
   "outputs": [
    {
     "name": "stdout",
     "output_type": "stream",
     "text": [
      "変数nの値は0\n",
      "変数nの値は1\n",
      "変数nの値は2\n",
      "変数nの値は3\n"
     ]
    }
   ],
   "source": [
    "n = 0\n",
    "while n <= 3: # nが3以下の間繰り返し処理を行う\n",
    "    print(f'変数nの値は{n}')\n",
    "    n += 1"
   ]
  },
  {
   "cell_type": "markdown",
   "id": "0ad88634-91cc-4499-8411-92f2f84a4ca0",
   "metadata": {
    "slideshow": {
     "slide_type": "slide"
    }
   },
   "source": [
    "if文：条件分岐  \n",
    "if 条件式１：  \n",
    "　　条件式1が真の場合実行される処理  \n",
    "elif　条件式２：  \n",
    "　　条件式１が偽でかつ条件式２が真の場合実行される処理  \n",
    "else：  \n",
    "　　すべての条件式が偽の場合に実行される処理"
   ]
  },
  {
   "cell_type": "markdown",
   "id": "c941d6cd-ac6c-4c2c-b3ac-d806bd2f8946",
   "metadata": {
    "slideshow": {
     "slide_type": "slide"
    }
   },
   "source": [
    "真偽演算子"
   ]
  },
  {
   "cell_type": "markdown",
   "id": "df6b7d78-9fe4-4026-9b0a-393c8eace5e1",
   "metadata": {},
   "source": [
    "  \n",
    "|真となる条件|演算子|  \n",
    "|:---|:--:|\n",
    "|右辺と左辺が等しい|　==　|  \n",
    "|右辺と左辺が等しくない|　!=　|  \n",
    "|右辺が左辺より小さい|　>　|  \n",
    "|右辺が左辺以下|　>=　|  \n",
    "|右辺が左辺より大きい|　<　|  \n",
    "|右辺が左辺以上|　<=　|"
   ]
  },
  {
   "cell_type": "markdown",
   "id": "87939789-0a05-4eef-9736-ea844cc2b5af",
   "metadata": {
    "slideshow": {
     "slide_type": "slide"
    }
   },
   "source": [
    "BMIを用いて肥満度チェック(日本肥満学会の判定基準)"
   ]
  },
  {
   "cell_type": "markdown",
   "id": "e106f3c3-00ed-4254-bf4f-faee69f47b38",
   "metadata": {},
   "source": [
    "|BMI値|判定|  \n",
    "|:--:|:--:|  \n",
    "|18.5未満|やせ型|  \n",
    "|18.5～25未満|普通|  \n",
    "|25～30未満|肥満度１|  \n",
    "|30～35未満|肥満度２|  \n",
    "|35～40未満|肥満度３|  \n",
    "|40以上|肥満度４|"
   ]
  },
  {
   "cell_type": "code",
   "execution_count": 3,
   "id": "6c12f65a-75ad-4e63-8f32-13ea341015d3",
   "metadata": {
    "slideshow": {
     "slide_type": "slide"
    }
   },
   "outputs": [
    {
     "name": "stdout",
     "output_type": "stream",
     "text": [
      "普通\n"
     ]
    }
   ],
   "source": [
    "my_body = {'身長': 1.75, '体重': 72.5}\n",
    "BMI = my_body['体重']/(my_body['身長']**2)\n",
    "if BMI < 18.5:\n",
    "    print('やせ型')\n",
    "elif 18.5 <= BMI and BMI < 25:\n",
    "    print('普通')\n",
    "elif 25 <= BMI and BMI < 30:\n",
    "    print('肥満度１')\n",
    "elif 30 <= BMI and BMI < 35:\n",
    "    print('肥満度２')\n",
    "elif 35 <= BMI and BMI < 40:\n",
    "    print('肥満度３')\n",
    "else:\n",
    "    print('肥満度４')"
   ]
  },
  {
   "cell_type": "markdown",
   "id": "0b9ee3a9-f1bb-4be3-90f6-9d48352df7db",
   "metadata": {
    "slideshow": {
     "slide_type": "slide"
    }
   },
   "source": [
    "break文：繰り返し処理のループを抜ける"
   ]
  },
  {
   "cell_type": "code",
   "execution_count": 39,
   "id": "242dcb45-8ab8-4344-a83f-ea74a2a27dcc",
   "metadata": {},
   "outputs": [
    {
     "name": "stdout",
     "output_type": "stream",
     "text": [
      "1番目の処理です\n",
      "2番目の処理です\n",
      "3番目の処理です\n",
      "4番目の処理です\n",
      "5番目の処理です\n",
      "6番目の処理です\n",
      "7番目の処理です\n",
      "8番目の処理です\n",
      "9番目の処理です\n"
     ]
    }
   ],
   "source": [
    "for i in range(100):\n",
    "    i = i + 1\n",
    "    if i == 10:\n",
    "        break\n",
    "    print(f'{i}番目の処理です')    "
   ]
  },
  {
   "cell_type": "code",
   "execution_count": 41,
   "id": "a36086ee-0af6-4db8-9ecb-9dbb747254db",
   "metadata": {
    "slideshow": {
     "slide_type": "slide"
    }
   },
   "outputs": [
    {
     "name": "stdout",
     "output_type": "stream",
     "text": [
      "変数nの値は0\n",
      "変数nの処理後の値は1\n",
      "変数nの値は1\n",
      "変数nの処理後の値は2\n",
      "変数nの値は2\n",
      "変数nの処理後の値は3\n",
      "変数nの値は3\n",
      "変数nの処理後の値は4\n",
      "変数nの値は4\n"
     ]
    }
   ],
   "source": [
    "n = 0\n",
    "while n <= 1000: # nが1000以下の間繰り返し処理を行う\n",
    "    print(f'変数nの値は{n}')\n",
    "    n += 1\n",
    "    if n ==5:\n",
    "        break\n",
    "    print(f'変数nの処理後の値は{n}')"
   ]
  },
  {
   "cell_type": "markdown",
   "id": "37f4d9d5-5169-40c9-86df-84d33a2e7910",
   "metadata": {
    "slideshow": {
     "slide_type": "slide"
    }
   },
   "source": [
    "問題4  \n",
    "2の10乗は1024である。  \n",
    "1.算術計算の機能で２の１０乗を計算せよ。  \n",
    "2.for文を用いて２の10乗を計算せよ。  \n",
    "3.while文を用いて2の10乗を計算せよ。"
   ]
  },
  {
   "cell_type": "code",
   "execution_count": 1,
   "id": "f6ec9a45-4258-4347-86ee-7c70fb8ce3a3",
   "metadata": {
    "slideshow": {
     "slide_type": "slide"
    }
   },
   "outputs": [
    {
     "data": {
      "text/plain": [
       "1024"
      ]
     },
     "execution_count": 1,
     "metadata": {},
     "output_type": "execute_result"
    }
   ],
   "source": [
    "# 問題4-1\n",
    "2 ** 10"
   ]
  },
  {
   "cell_type": "code",
   "execution_count": 2,
   "id": "4dfc0542-d0c9-49fb-915e-88aca186b01d",
   "metadata": {
    "slideshow": {
     "slide_type": "slide"
    }
   },
   "outputs": [
    {
     "name": "stdout",
     "output_type": "stream",
     "text": [
      "1024\n"
     ]
    }
   ],
   "source": [
    "# 問題4-2\n",
    "ans = 1\n",
    "for x in [1, 2, 3, 4, 5, 6, 7, 8, 9, 10]:\n",
    "    ans = ans * 2\n",
    "print(ans)    "
   ]
  },
  {
   "cell_type": "code",
   "execution_count": 3,
   "id": "0a487906-c327-4da9-916a-7692656599c7",
   "metadata": {
    "slideshow": {
     "slide_type": "slide"
    }
   },
   "outputs": [
    {
     "name": "stdout",
     "output_type": "stream",
     "text": [
      "1024\n"
     ]
    }
   ],
   "source": [
    "# 問題4-3\n",
    "ans = 1\n",
    "count = 1\n",
    "while count < 11:\n",
    "    ans = ans * 2\n",
    "    count = count + 1\n",
    "print(ans)"
   ]
  },
  {
   "cell_type": "markdown",
   "id": "eecd67fb-adf5-4ee5-89be-ac6d1b8743a2",
   "metadata": {
    "slideshow": {
     "slide_type": "slide"
    }
   },
   "source": [
    "### 3-4. 関数"
   ]
  },
  {
   "cell_type": "markdown",
   "id": "7078bf70-220d-4222-b9f2-969203ee1833",
   "metadata": {
    "slideshow": {
     "slide_type": "slide"
    }
   },
   "source": [
    "関連する一連の処理をまとめたもの。引数としてデータを受け取り結果を戻り値として返す。  \n",
    "\n",
    "def　関数名(引数１、引数２、・・・)：  \n",
    "<p style=\"text-indent:1em;\">関数で実行したい処理</p>\n",
    "<p style=\"text-indent:1em;\">return 戻り値</p>"
   ]
  },
  {
   "cell_type": "markdown",
   "id": "21841a66-d644-4ab8-89bd-74163afd1956",
   "metadata": {
    "slideshow": {
     "slide_type": "slide"
    }
   },
   "source": [
    "例：ピタゴラスの定理の関数  \n",
    "直角三角形の斜辺の長さzを求める関数として定義。引数として他の2辺の長さx、yを与える。"
   ]
  },
  {
   "cell_type": "code",
   "execution_count": 6,
   "id": "a7fc139e-a540-45b2-8361-d02e8619ade3",
   "metadata": {},
   "outputs": [],
   "source": [
    "def calc_hypotenuse(x, y):\n",
    "    z = (x**2 + y**2)**(1/2)\n",
    "    return z"
   ]
  },
  {
   "cell_type": "markdown",
   "id": "9698cb33-a8df-4711-80cb-ca5ac26f03de",
   "metadata": {
    "slideshow": {
     "slide_type": "slide"
    }
   },
   "source": [
    "以下のa、b、cで与えられる直角三角形の斜辺の長さｚを求めよ。  \n",
    "a: x = 2, y = 3  \n",
    "b: x = 4, y = 5  \n",
    "c: x = 6, y = 7  "
   ]
  },
  {
   "cell_type": "code",
   "execution_count": 7,
   "id": "b745f65b-ac53-473d-97ac-485f2351e5da",
   "metadata": {},
   "outputs": [
    {
     "name": "stdout",
     "output_type": "stream",
     "text": [
      "3.605551275463989\n",
      "6.4031242374328485\n",
      "9.219544457292887\n"
     ]
    }
   ],
   "source": [
    "a = calc_hypotenuse(2, 3)\n",
    "b = calc_hypotenuse(4, 5)\n",
    "c = calc_hypotenuse(6, 7)\n",
    "print(a)\n",
    "print(b)\n",
    "print(c)"
   ]
  },
  {
   "cell_type": "markdown",
   "id": "ed9aec3f-0bff-4b04-a08e-1e5c74529d3e",
   "metadata": {
    "slideshow": {
     "slide_type": "slide"
    }
   },
   "source": [
    "問題5  \n",
    "BMIを出力する関数を作成しなさい。BMIは体重(kg)/(身長(m)×身長(m))で定義される。"
   ]
  },
  {
   "cell_type": "code",
   "execution_count": 8,
   "id": "a004373c-915c-46f6-9954-9db2ea55ca37",
   "metadata": {
    "slideshow": {
     "slide_type": "slide"
    }
   },
   "outputs": [],
   "source": [
    "# 問題5\n",
    "def BMI_function(height, weight):\n",
    "    ans = weight / (height * height)\n",
    "    return ans"
   ]
  },
  {
   "cell_type": "markdown",
   "id": "c23bc18f-2748-4d50-ad94-290169f3103c",
   "metadata": {
    "slideshow": {
     "slide_type": "slide"
    }
   },
   "source": [
    "問題6  \n",
    "BMI値を元に次表に従って肥満度を出力する関数を作成しなさい。"
   ]
  },
  {
   "cell_type": "markdown",
   "id": "29efcf69-1765-42b3-9013-bac5c09ef73f",
   "metadata": {},
   "source": [
    "|BMI値|判定|  \n",
    "|:--:|:--:|  \n",
    "|18.5未満|やせ型|  \n",
    "|18.5～25未満|普通|  \n",
    "|25～30未満|肥満度１|  \n",
    "|30～35未満|肥満度２|  \n",
    "|35～40未満|肥満度３|  \n",
    "|40以上|肥満度４|"
   ]
  },
  {
   "cell_type": "code",
   "execution_count": 10,
   "id": "e405cd39-afe2-489c-8223-664dd2d671ba",
   "metadata": {
    "slideshow": {
     "slide_type": "slide"
    }
   },
   "outputs": [],
   "source": [
    "# 問題6\n",
    "def obesity_check(height, weight):\n",
    "    BMI = BMI_function(height, weight)\n",
    "    \n",
    "    if BMI < 18.5:\n",
    "        return'やせ型'\n",
    "    elif 18.5 <= BMI and BMI < 25:\n",
    "        return'普通'\n",
    "    elif 25 <= BMI and BMI < 30:\n",
    "        return'肥満度１'\n",
    "    elif 30 <= BMI and BMI < 35:\n",
    "        return'肥満度２'\n",
    "    elif 35 <= BMI and BMI < 40:\n",
    "        return'肥満度３'\n",
    "    else:\n",
    "        return'肥満度４'"
   ]
  },
  {
   "cell_type": "markdown",
   "id": "4fe6e828-822f-49e7-a84a-1da2ea7e1e2f",
   "metadata": {
    "slideshow": {
     "slide_type": "slide"
    }
   },
   "source": [
    "問題7  \n",
    "各自の体重と身長を用いて肥満度を求めなさい。"
   ]
  },
  {
   "cell_type": "code",
   "execution_count": 39,
   "id": "a7787ff8-f88b-46ac-ab13-8fe0c40602ba",
   "metadata": {
    "slideshow": {
     "slide_type": "slide"
    }
   },
   "outputs": [
    {
     "name": "stdout",
     "output_type": "stream",
     "text": [
      "23.6734693877551\n",
      "普通\n"
     ]
    }
   ],
   "source": [
    "# 問題7\n",
    "my_body = {'height': 1.75, 'weight': 72.5}\n",
    "my_BMI = BMI_function(my_body['height'], my_body['weight'])\n",
    "my_obesity = obesity_check(my_body['height'], my_body['weight'])\n",
    "print(my_BMI)\n",
    "print(my_obesity)"
   ]
  },
  {
   "cell_type": "markdown",
   "id": "b4f3769c-44c0-4eea-b218-2ad7ec7ca1b8",
   "metadata": {
    "slideshow": {
     "slide_type": "slide"
    }
   },
   "source": [
    "使用頻度の多い組み込み関数：range()、format()"
   ]
  },
  {
   "cell_type": "markdown",
   "id": "d892d0f4-4562-4b3d-a15e-baf84d56e19d",
   "metadata": {
    "slideshow": {
     "slide_type": "slide"
    }
   },
   "source": [
    "range関数  \n",
    "range([開始]、[終了]、[刻み])：数列を出力する"
   ]
  },
  {
   "cell_type": "markdown",
   "id": "6950cffc-a317-42e2-b114-96002438c622",
   "metadata": {
    "slideshow": {
     "slide_type": "slide"
    }
   },
   "source": [
    "### range(5):０から順に４まで  \n",
    "range(2, 5):２から順に４まで  \n",
    "range(2, 15, 2):２から14まで2刻みで出力"
   ]
  },
  {
   "cell_type": "code",
   "execution_count": 35,
   "id": "a39999eb-39ce-4cda-b35a-05caedd934a9",
   "metadata": {
    "scrolled": true,
    "slideshow": {
     "slide_type": "fragment"
    }
   },
   "outputs": [
    {
     "name": "stdout",
     "output_type": "stream",
     "text": [
      "0\n",
      "1\n",
      "2\n",
      "3\n",
      "4\n"
     ]
    }
   ],
   "source": [
    "for i in range(5):\n",
    "    print(i)"
   ]
  },
  {
   "cell_type": "markdown",
   "id": "ddd48992",
   "metadata": {
    "slideshow": {
     "slide_type": "slide"
    }
   },
   "source": [
    "range(5):０から順に４まで  \n",
    "### range(2, 5):２から順に４まで  \n",
    "range(2, 15, 2):２から14まで2刻みで出力"
   ]
  },
  {
   "cell_type": "code",
   "execution_count": 36,
   "id": "688c48fa-55c2-4e1c-a0ab-ea1368e21226",
   "metadata": {
    "slideshow": {
     "slide_type": "fragment"
    }
   },
   "outputs": [
    {
     "name": "stdout",
     "output_type": "stream",
     "text": [
      "2\n",
      "3\n",
      "4\n"
     ]
    }
   ],
   "source": [
    "for i in range(2, 5):\n",
    "    print(i)"
   ]
  },
  {
   "cell_type": "markdown",
   "id": "778396dc",
   "metadata": {
    "slideshow": {
     "slide_type": "slide"
    }
   },
   "source": [
    "range(5):０から順に４まで  \n",
    "range(2, 5):２から順に４まで  \n",
    "### range(2, 15, 2):２から14まで2刻みで出力"
   ]
  },
  {
   "cell_type": "code",
   "execution_count": 37,
   "id": "8f5873df-0a35-4d03-ba1d-cc111f93e96c",
   "metadata": {
    "slideshow": {
     "slide_type": "fragment"
    }
   },
   "outputs": [
    {
     "name": "stdout",
     "output_type": "stream",
     "text": [
      "2\n",
      "4\n",
      "6\n",
      "8\n",
      "10\n",
      "12\n",
      "14\n"
     ]
    }
   ],
   "source": [
    "for i in range(2, 15, 2):\n",
    "    print(i)"
   ]
  },
  {
   "cell_type": "markdown",
   "id": "548355ec-e3ff-4d05-a3d4-fcb7a52fe622",
   "metadata": {
    "slideshow": {
     "slide_type": "slide"
    }
   },
   "source": [
    "format関数"
   ]
  },
  {
   "cell_type": "markdown",
   "id": "1f12c31c-2dce-4786-80da-f02ba33641be",
   "metadata": {
    "slideshow": {
     "slide_type": "slide"
    }
   },
   "source": [
    "先ほどの問題３のprint形式を’私のBMIは23.67です’と小数点2桁で出力するにはどうすればいいか。  \n",
    "”私のBMIは{:.2f}”.format(my_BMI) として{}部分にfloat2桁で埋め込む"
   ]
  },
  {
   "cell_type": "code",
   "execution_count": 64,
   "id": "dbeccb01-55cb-4375-a9d7-a33cafa7b75c",
   "metadata": {},
   "outputs": [
    {
     "name": "stdout",
     "output_type": "stream",
     "text": [
      "私のBMIは23.67です\n"
     ]
    }
   ],
   "source": [
    "print('私のBMIは{:.2f}です'.format(my_BMI))"
   ]
  },
  {
   "cell_type": "markdown",
   "id": "06ca7794-05ba-4d59-a67c-30da17f5aa42",
   "metadata": {
    "slideshow": {
     "slide_type": "slide"
    }
   },
   "source": [
    "私の肥満度も同じように’私の肥満度は普通です’と出力するにはどうするか。  \n",
    "”私の肥満度は{}”.format(my_obesity)として埋め込む。"
   ]
  },
  {
   "cell_type": "code",
   "execution_count": 56,
   "id": "9ed68a85-ad0c-413e-b300-f7bc73706d80",
   "metadata": {},
   "outputs": [
    {
     "name": "stdout",
     "output_type": "stream",
     "text": [
      "私の肥満度は普通です\n"
     ]
    }
   ],
   "source": [
    "print('私の肥満度は{}です'.format(my_obesity))"
   ]
  },
  {
   "cell_type": "markdown",
   "id": "a2582bc8-c270-42e0-a355-ed40d97ff54b",
   "metadata": {
    "slideshow": {
     "slide_type": "slide"
    }
   },
   "source": [
    "format関数と同じ機能でfstringがある"
   ]
  },
  {
   "cell_type": "code",
   "execution_count": 61,
   "id": "28922f5c-a5cd-46ee-9898-93c700ef9c31",
   "metadata": {
    "slideshow": {
     "slide_type": "slide"
    }
   },
   "outputs": [
    {
     "name": "stdout",
     "output_type": "stream",
     "text": [
      "私のBMIは23.67です\n"
     ]
    }
   ],
   "source": [
    "print(f'私のBMIは{my_BMI:.2f}です')"
   ]
  },
  {
   "cell_type": "code",
   "execution_count": 59,
   "id": "7ef21296-0e9b-4f06-a0c2-b7ff8496ebf7",
   "metadata": {},
   "outputs": [
    {
     "name": "stdout",
     "output_type": "stream",
     "text": [
      "私の肥満度は普通です\n"
     ]
    }
   ],
   "source": [
    "print(f'私の肥満度は{my_obesity}です')"
   ]
  },
  {
   "cell_type": "code",
   "execution_count": 67,
   "id": "5617139a-6836-45a6-b318-30afe154859b",
   "metadata": {},
   "outputs": [
    {
     "name": "stdout",
     "output_type": "stream",
     "text": [
      "私のBMIは23.67です。肥満度は普通です\n"
     ]
    }
   ],
   "source": [
    "print('私のBMIは{:.2f}です。肥満度は{}です'.format(my_BMI, my_obesity))"
   ]
  },
  {
   "cell_type": "code",
   "execution_count": 68,
   "id": "b57db4c5-9acf-49fd-b63a-4d9f0b51fe80",
   "metadata": {},
   "outputs": [
    {
     "name": "stdout",
     "output_type": "stream",
     "text": [
      "私のBMIは23.67です。肥満度は普通です。\n"
     ]
    }
   ],
   "source": [
    "print(f'私のBMIは{my_BMI:.2f}です。肥満度は{my_obesity}です。')"
   ]
  },
  {
   "cell_type": "code",
   "execution_count": 71,
   "id": "832f93e1-c4d0-49d9-b7c3-197c6b01502d",
   "metadata": {},
   "outputs": [
    {
     "name": "stdout",
     "output_type": "stream",
     "text": [
      "私の名前はTaroです。年齢は20歳です。\n"
     ]
    }
   ],
   "source": [
    "name = 'Taro'\n",
    "age = 20\n",
    "print('私の名前は{}です。年齢は{}歳です。'.format(name, age))"
   ]
  },
  {
   "cell_type": "markdown",
   "id": "1cb866ce-23ee-495a-a2be-2951f4d850f1",
   "metadata": {
    "slideshow": {
     "slide_type": "slide"
    }
   },
   "source": [
    "問題8  \n",
    "九九の２の段をrange関数を用いて以下のように出力しなさい。  \n",
    "2×１＝２  \n",
    "2×２＝４  \n",
    "・・・・  \n",
    "・・・・  \n",
    "2×９＝18"
   ]
  },
  {
   "cell_type": "code",
   "execution_count": 73,
   "id": "be477096-bc75-44ce-9891-287c60339b68",
   "metadata": {
    "slideshow": {
     "slide_type": "slide"
    }
   },
   "outputs": [
    {
     "name": "stdout",
     "output_type": "stream",
     "text": [
      "2×1 = 2\n",
      "2×2 = 4\n",
      "2×3 = 6\n",
      "2×4 = 8\n",
      "2×5 = 10\n",
      "2×6 = 12\n",
      "2×7 = 14\n",
      "2×8 = 16\n",
      "2×9 = 18\n"
     ]
    }
   ],
   "source": [
    "base = 2\n",
    "for i in range(1, 10):\n",
    "    print('{}×{} = {}'.format(base, i, base*i))"
   ]
  },
  {
   "cell_type": "markdown",
   "id": "c8e47e17-0776-499a-a6ab-04f78ffda804",
   "metadata": {
    "slideshow": {
     "slide_type": "slide"
    }
   },
   "source": [
    "### 3-5. クラス"
   ]
  },
  {
   "cell_type": "markdown",
   "id": "f8347e73-305b-4a78-8647-325e51ebd844",
   "metadata": {
    "slideshow": {
     "slide_type": "slide"
    }
   },
   "source": [
    "Pythonプログラミングは、クラスという設計図とクラスを用いて生成されたオブジェクト(インスタンスと呼ぶ)を用いてプログラムが作成されている。  \n",
    "これをオブジェクト指向プログラミングという。  \n",
    "クラス：独自の状態やメソッドを持つオブジェクトを生成する設計図・型を記述したもの  \n",
    "オブジェクト：独自の状態(変数)とメソッドを有するプログラムの要素。クラスから生成された個々のオブジェクトをインスタンスと呼ぶ。"
   ]
  },
  {
   "cell_type": "raw",
   "id": "b47afed8-b3f8-4b86-bd4d-e9ca600d6bcf",
   "metadata": {
    "slideshow": {
     "slide_type": "slide"
    }
   },
   "source": [
    "例：電卓プログラム"
   ]
  },
  {
   "cell_type": "code",
   "execution_count": 1,
   "id": "dd713407-20fa-45cb-b9d3-d062b36f0041",
   "metadata": {
    "slideshow": {
     "slide_type": "slide"
    }
   },
   "outputs": [],
   "source": [
    "# クラスの定義と初期化メソッド\n",
    "class Dentaku:\n",
    "    def __init__(self):\n",
    "        self.first_term = 0\n",
    "        self.second_term = 0\n",
    "        self.result = 0\n",
    "        self.operation = '+'\n",
    "\n",
    "#　計算を実行するメソッド        \n",
    "    def do_operation(self):\n",
    "        if self.operation == '+':\n",
    "            self.result = self.first_term + self.second_term\n",
    "        elif self.operation == '-':\n",
    "            self.result = self.first_term - self.second_term"
   ]
  },
  {
   "cell_type": "code",
   "execution_count": 2,
   "id": "0b174d34",
   "metadata": {
    "slideshow": {
     "slide_type": "slide"
    }
   },
   "outputs": [
    {
     "name": "stdin",
     "output_type": "stream",
     "text": [
      "First Term 14\n",
      "Operation +\n",
      "Second Term 5\n"
     ]
    },
    {
     "name": "stdout",
     "output_type": "stream",
     "text": [
      "Result 19\n"
     ]
    },
    {
     "name": "stdin",
     "output_type": "stream",
     "text": [
      "First Term 56\n",
      "Operation -\n",
      "Second Term 54\n"
     ]
    },
    {
     "name": "stdout",
     "output_type": "stream",
     "text": [
      "Result 2\n"
     ]
    },
    {
     "ename": "KeyboardInterrupt",
     "evalue": "Interrupted by user",
     "output_type": "error",
     "traceback": [
      "\u001b[1;31m---------------------------------------------------------------------------\u001b[0m",
      "\u001b[1;31mKeyboardInterrupt\u001b[0m                         Traceback (most recent call last)",
      "\u001b[1;32m<ipython-input-2-4fa1fe0032b6>\u001b[0m in \u001b[0;36m<module>\u001b[1;34m\u001b[0m\n\u001b[0;32m      2\u001b[0m \u001b[0mdentaku\u001b[0m \u001b[1;33m=\u001b[0m \u001b[0mDentaku\u001b[0m\u001b[1;33m(\u001b[0m\u001b[1;33m)\u001b[0m\u001b[1;33m\u001b[0m\u001b[1;33m\u001b[0m\u001b[0m\n\u001b[0;32m      3\u001b[0m \u001b[1;32mwhile\u001b[0m \u001b[1;32mTrue\u001b[0m\u001b[1;33m:\u001b[0m\u001b[1;33m\u001b[0m\u001b[1;33m\u001b[0m\u001b[0m\n\u001b[1;32m----> 4\u001b[1;33m     \u001b[0mf\u001b[0m \u001b[1;33m=\u001b[0m \u001b[0mint\u001b[0m\u001b[1;33m(\u001b[0m\u001b[0minput\u001b[0m\u001b[1;33m(\u001b[0m\u001b[1;34m'First Term'\u001b[0m\u001b[1;33m)\u001b[0m\u001b[1;33m)\u001b[0m\u001b[1;33m\u001b[0m\u001b[1;33m\u001b[0m\u001b[0m\n\u001b[0m\u001b[0;32m      5\u001b[0m     \u001b[0mdentaku\u001b[0m\u001b[1;33m.\u001b[0m\u001b[0mfirst_term\u001b[0m \u001b[1;33m=\u001b[0m \u001b[0mf\u001b[0m\u001b[1;33m\u001b[0m\u001b[1;33m\u001b[0m\u001b[0m\n\u001b[0;32m      6\u001b[0m     \u001b[0mo\u001b[0m \u001b[1;33m=\u001b[0m \u001b[0minput\u001b[0m\u001b[1;33m(\u001b[0m\u001b[1;34m'Operation'\u001b[0m\u001b[1;33m)\u001b[0m\u001b[1;33m\u001b[0m\u001b[1;33m\u001b[0m\u001b[0m\n",
      "\u001b[1;32m~\\.conda\\envs\\py39env\\lib\\site-packages\\ipykernel\\kernelbase.py\u001b[0m in \u001b[0;36mraw_input\u001b[1;34m(self, prompt)\u001b[0m\n\u001b[0;32m    858\u001b[0m                 \u001b[1;34m\"raw_input was called, but this frontend does not support input requests.\"\u001b[0m\u001b[1;33m\u001b[0m\u001b[1;33m\u001b[0m\u001b[0m\n\u001b[0;32m    859\u001b[0m             )\n\u001b[1;32m--> 860\u001b[1;33m         return self._input_request(str(prompt),\n\u001b[0m\u001b[0;32m    861\u001b[0m             \u001b[0mself\u001b[0m\u001b[1;33m.\u001b[0m\u001b[0m_parent_ident\u001b[0m\u001b[1;33m,\u001b[0m\u001b[1;33m\u001b[0m\u001b[1;33m\u001b[0m\u001b[0m\n\u001b[0;32m    862\u001b[0m             \u001b[0mself\u001b[0m\u001b[1;33m.\u001b[0m\u001b[0m_parent_header\u001b[0m\u001b[1;33m,\u001b[0m\u001b[1;33m\u001b[0m\u001b[1;33m\u001b[0m\u001b[0m\n",
      "\u001b[1;32m~\\.conda\\envs\\py39env\\lib\\site-packages\\ipykernel\\kernelbase.py\u001b[0m in \u001b[0;36m_input_request\u001b[1;34m(self, prompt, ident, parent, password)\u001b[0m\n\u001b[0;32m    902\u001b[0m             \u001b[1;32mexcept\u001b[0m \u001b[0mKeyboardInterrupt\u001b[0m\u001b[1;33m:\u001b[0m\u001b[1;33m\u001b[0m\u001b[1;33m\u001b[0m\u001b[0m\n\u001b[0;32m    903\u001b[0m                 \u001b[1;31m# re-raise KeyboardInterrupt, to truncate traceback\u001b[0m\u001b[1;33m\u001b[0m\u001b[1;33m\u001b[0m\u001b[1;33m\u001b[0m\u001b[0m\n\u001b[1;32m--> 904\u001b[1;33m                 \u001b[1;32mraise\u001b[0m \u001b[0mKeyboardInterrupt\u001b[0m\u001b[1;33m(\u001b[0m\u001b[1;34m\"Interrupted by user\"\u001b[0m\u001b[1;33m)\u001b[0m \u001b[1;32mfrom\u001b[0m \u001b[1;32mNone\u001b[0m\u001b[1;33m\u001b[0m\u001b[1;33m\u001b[0m\u001b[0m\n\u001b[0m\u001b[0;32m    905\u001b[0m             \u001b[1;32mexcept\u001b[0m \u001b[0mException\u001b[0m \u001b[1;32mas\u001b[0m \u001b[0me\u001b[0m\u001b[1;33m:\u001b[0m\u001b[1;33m\u001b[0m\u001b[1;33m\u001b[0m\u001b[0m\n\u001b[0;32m    906\u001b[0m                 \u001b[0mself\u001b[0m\u001b[1;33m.\u001b[0m\u001b[0mlog\u001b[0m\u001b[1;33m.\u001b[0m\u001b[0mwarning\u001b[0m\u001b[1;33m(\u001b[0m\u001b[1;34m\"Invalid Message:\"\u001b[0m\u001b[1;33m,\u001b[0m \u001b[0mexc_info\u001b[0m\u001b[1;33m=\u001b[0m\u001b[1;32mTrue\u001b[0m\u001b[1;33m)\u001b[0m\u001b[1;33m\u001b[0m\u001b[1;33m\u001b[0m\u001b[0m\n",
      "\u001b[1;31mKeyboardInterrupt\u001b[0m: Interrupted by user"
     ]
    }
   ],
   "source": [
    "#　dentakuオブジェクトの生成            \n",
    "dentaku = Dentaku()\n",
    "while True:\n",
    "    f = int(input('First Term'))\n",
    "    dentaku.first_term = f\n",
    "    o = input('Operation')\n",
    "    dentaku.operation = o\n",
    "    s = int(input('Second Term'))\n",
    "    dentaku.second_term = s\n",
    "    dentaku.do_operation()\n",
    "    r = dentaku.result\n",
    "    print('Result', r)"
   ]
  },
  {
   "cell_type": "markdown",
   "id": "483b6896-d814-489e-8ebe-19f83e990e88",
   "metadata": {
    "slideshow": {
     "slide_type": "slide"
    }
   },
   "source": [
    "問題9  \n",
    "Dentakuクラスを乗算、除算も扱えるように拡張してください。"
   ]
  },
  {
   "cell_type": "code",
   "execution_count": 3,
   "id": "eaad1c1a-8e01-4b5f-813d-ad845c5a2840",
   "metadata": {
    "slideshow": {
     "slide_type": "slide"
    }
   },
   "outputs": [],
   "source": [
    "# 初期化メソッド\n",
    "class Dentaku:\n",
    "    def __init__(self):\n",
    "        self.first_term = 0\n",
    "        self.second_term = 0\n",
    "        self.result = 0\n",
    "        self.operation = '+'\n",
    "\n",
    "#　計算を実行するメソッド        \n",
    "    def do_operation(self):\n",
    "        if self.operation == '+':\n",
    "            self.result = self.first_term + self.second_term\n",
    "        elif self.operation == '-':\n",
    "            self.result = self.first_term - self.second_term\n",
    "        elif self.operation == '*':\n",
    "            self.result = self.first_term * self.second_term\n",
    "        elif self.operation == '/':\n",
    "            self.result = self.first_term / self.second_term"
   ]
  },
  {
   "cell_type": "code",
   "execution_count": 4,
   "id": "7ceddd2a",
   "metadata": {
    "slideshow": {
     "slide_type": "slide"
    }
   },
   "outputs": [
    {
     "name": "stdin",
     "output_type": "stream",
     "text": [
      "First Term 56\n",
      "Operation /\n",
      "Second Term 4\n"
     ]
    },
    {
     "name": "stdout",
     "output_type": "stream",
     "text": [
      "Result 14.0\n"
     ]
    },
    {
     "ename": "KeyboardInterrupt",
     "evalue": "Interrupted by user",
     "output_type": "error",
     "traceback": [
      "\u001b[1;31m---------------------------------------------------------------------------\u001b[0m",
      "\u001b[1;31mKeyboardInterrupt\u001b[0m                         Traceback (most recent call last)",
      "\u001b[1;32m<ipython-input-4-4fa1fe0032b6>\u001b[0m in \u001b[0;36m<module>\u001b[1;34m\u001b[0m\n\u001b[0;32m      2\u001b[0m \u001b[0mdentaku\u001b[0m \u001b[1;33m=\u001b[0m \u001b[0mDentaku\u001b[0m\u001b[1;33m(\u001b[0m\u001b[1;33m)\u001b[0m\u001b[1;33m\u001b[0m\u001b[1;33m\u001b[0m\u001b[0m\n\u001b[0;32m      3\u001b[0m \u001b[1;32mwhile\u001b[0m \u001b[1;32mTrue\u001b[0m\u001b[1;33m:\u001b[0m\u001b[1;33m\u001b[0m\u001b[1;33m\u001b[0m\u001b[0m\n\u001b[1;32m----> 4\u001b[1;33m     \u001b[0mf\u001b[0m \u001b[1;33m=\u001b[0m \u001b[0mint\u001b[0m\u001b[1;33m(\u001b[0m\u001b[0minput\u001b[0m\u001b[1;33m(\u001b[0m\u001b[1;34m'First Term'\u001b[0m\u001b[1;33m)\u001b[0m\u001b[1;33m)\u001b[0m\u001b[1;33m\u001b[0m\u001b[1;33m\u001b[0m\u001b[0m\n\u001b[0m\u001b[0;32m      5\u001b[0m     \u001b[0mdentaku\u001b[0m\u001b[1;33m.\u001b[0m\u001b[0mfirst_term\u001b[0m \u001b[1;33m=\u001b[0m \u001b[0mf\u001b[0m\u001b[1;33m\u001b[0m\u001b[1;33m\u001b[0m\u001b[0m\n\u001b[0;32m      6\u001b[0m     \u001b[0mo\u001b[0m \u001b[1;33m=\u001b[0m \u001b[0minput\u001b[0m\u001b[1;33m(\u001b[0m\u001b[1;34m'Operation'\u001b[0m\u001b[1;33m)\u001b[0m\u001b[1;33m\u001b[0m\u001b[1;33m\u001b[0m\u001b[0m\n",
      "\u001b[1;32m~\\.conda\\envs\\py39env\\lib\\site-packages\\ipykernel\\kernelbase.py\u001b[0m in \u001b[0;36mraw_input\u001b[1;34m(self, prompt)\u001b[0m\n\u001b[0;32m    858\u001b[0m                 \u001b[1;34m\"raw_input was called, but this frontend does not support input requests.\"\u001b[0m\u001b[1;33m\u001b[0m\u001b[1;33m\u001b[0m\u001b[0m\n\u001b[0;32m    859\u001b[0m             )\n\u001b[1;32m--> 860\u001b[1;33m         return self._input_request(str(prompt),\n\u001b[0m\u001b[0;32m    861\u001b[0m             \u001b[0mself\u001b[0m\u001b[1;33m.\u001b[0m\u001b[0m_parent_ident\u001b[0m\u001b[1;33m,\u001b[0m\u001b[1;33m\u001b[0m\u001b[1;33m\u001b[0m\u001b[0m\n\u001b[0;32m    862\u001b[0m             \u001b[0mself\u001b[0m\u001b[1;33m.\u001b[0m\u001b[0m_parent_header\u001b[0m\u001b[1;33m,\u001b[0m\u001b[1;33m\u001b[0m\u001b[1;33m\u001b[0m\u001b[0m\n",
      "\u001b[1;32m~\\.conda\\envs\\py39env\\lib\\site-packages\\ipykernel\\kernelbase.py\u001b[0m in \u001b[0;36m_input_request\u001b[1;34m(self, prompt, ident, parent, password)\u001b[0m\n\u001b[0;32m    902\u001b[0m             \u001b[1;32mexcept\u001b[0m \u001b[0mKeyboardInterrupt\u001b[0m\u001b[1;33m:\u001b[0m\u001b[1;33m\u001b[0m\u001b[1;33m\u001b[0m\u001b[0m\n\u001b[0;32m    903\u001b[0m                 \u001b[1;31m# re-raise KeyboardInterrupt, to truncate traceback\u001b[0m\u001b[1;33m\u001b[0m\u001b[1;33m\u001b[0m\u001b[1;33m\u001b[0m\u001b[0m\n\u001b[1;32m--> 904\u001b[1;33m                 \u001b[1;32mraise\u001b[0m \u001b[0mKeyboardInterrupt\u001b[0m\u001b[1;33m(\u001b[0m\u001b[1;34m\"Interrupted by user\"\u001b[0m\u001b[1;33m)\u001b[0m \u001b[1;32mfrom\u001b[0m \u001b[1;32mNone\u001b[0m\u001b[1;33m\u001b[0m\u001b[1;33m\u001b[0m\u001b[0m\n\u001b[0m\u001b[0;32m    905\u001b[0m             \u001b[1;32mexcept\u001b[0m \u001b[0mException\u001b[0m \u001b[1;32mas\u001b[0m \u001b[0me\u001b[0m\u001b[1;33m:\u001b[0m\u001b[1;33m\u001b[0m\u001b[1;33m\u001b[0m\u001b[0m\n\u001b[0;32m    906\u001b[0m                 \u001b[0mself\u001b[0m\u001b[1;33m.\u001b[0m\u001b[0mlog\u001b[0m\u001b[1;33m.\u001b[0m\u001b[0mwarning\u001b[0m\u001b[1;33m(\u001b[0m\u001b[1;34m\"Invalid Message:\"\u001b[0m\u001b[1;33m,\u001b[0m \u001b[0mexc_info\u001b[0m\u001b[1;33m=\u001b[0m\u001b[1;32mTrue\u001b[0m\u001b[1;33m)\u001b[0m\u001b[1;33m\u001b[0m\u001b[1;33m\u001b[0m\u001b[0m\n",
      "\u001b[1;31mKeyboardInterrupt\u001b[0m: Interrupted by user"
     ]
    }
   ],
   "source": [
    "#　dentakuオブジェクトの生成            \n",
    "dentaku = Dentaku()\n",
    "while True:\n",
    "    f = int(input('First Term'))\n",
    "    dentaku.first_term = f\n",
    "    o = input('Operation')\n",
    "    dentaku.operation = o\n",
    "    s = int(input('Second Term'))\n",
    "    dentaku.second_term = s\n",
    "    dentaku.do_operation()\n",
    "    r = dentaku.result\n",
    "    print('Result', r)"
   ]
  },
  {
   "cell_type": "markdown",
   "id": "09d093c5-bfb4-4796-97e2-897493420e63",
   "metadata": {
    "slideshow": {
     "slide_type": "slide"
    }
   },
   "source": [
    "クラスの例：ゲームプレーヤー"
   ]
  },
  {
   "cell_type": "code",
   "execution_count": 4,
   "id": "113702ac-76a5-421c-9584-9ee7b5d4f239",
   "metadata": {
    "slideshow": {
     "slide_type": "slide"
    }
   },
   "outputs": [
    {
     "name": "stdout",
     "output_type": "stream",
     "text": [
      "name: Kamado\n",
      "Level: 1\n"
     ]
    }
   ],
   "source": [
    "# クラスの定義\n",
    "class Player:\n",
    "    def __init__(self, name, level):\n",
    "        self.name = name\n",
    "        self.level = level\n",
    "#　メソッド        \n",
    "    def display(self):\n",
    "        print('name:', self.name)\n",
    "        print('Level:', self.level)\n",
    "        \n",
    "# Playerオブジェクトの生成\n",
    "p1 = Player('Kamado', 1)\n",
    "p1.display()"
   ]
  },
  {
   "cell_type": "code",
   "execution_count": 11,
   "id": "7cf71267-2bd5-4710-bbe8-8d5512146d2f",
   "metadata": {
    "slideshow": {
     "slide_type": "slide"
    }
   },
   "outputs": [
    {
     "data": {
      "text/plain": [
       "__main__.Player"
      ]
     },
     "execution_count": 11,
     "metadata": {},
     "output_type": "execute_result"
    }
   ],
   "source": [
    "Player"
   ]
  },
  {
   "cell_type": "code",
   "execution_count": 7,
   "id": "f9f54828-759f-4fac-8b02-ce3896c0aa5d",
   "metadata": {},
   "outputs": [
    {
     "data": {
      "text/plain": [
       "__main__.Player"
      ]
     },
     "execution_count": 7,
     "metadata": {},
     "output_type": "execute_result"
    }
   ],
   "source": [
    "type(p1) # インスタンスのクラスを確認"
   ]
  },
  {
   "cell_type": "code",
   "execution_count": 9,
   "id": "6d7e5c6e-6c73-4cc6-877b-2e465557eb27",
   "metadata": {},
   "outputs": [
    {
     "data": {
      "text/plain": [
       "True"
      ]
     },
     "execution_count": 9,
     "metadata": {},
     "output_type": "execute_result"
    }
   ],
   "source": [
    "isinstance(p1, Player) # Playerクラスのインスタンスか確認"
   ]
  },
  {
   "cell_type": "code",
   "execution_count": 10,
   "id": "2729ab66-ed45-400c-88d9-599683e8c261",
   "metadata": {
    "slideshow": {
     "slide_type": "slide"
    }
   },
   "outputs": [
    {
     "data": {
      "text/plain": [
       "['__class__',\n",
       " '__delattr__',\n",
       " '__dict__',\n",
       " '__dir__',\n",
       " '__doc__',\n",
       " '__eq__',\n",
       " '__format__',\n",
       " '__ge__',\n",
       " '__getattribute__',\n",
       " '__gt__',\n",
       " '__hash__',\n",
       " '__init__',\n",
       " '__init_subclass__',\n",
       " '__le__',\n",
       " '__lt__',\n",
       " '__module__',\n",
       " '__ne__',\n",
       " '__new__',\n",
       " '__reduce__',\n",
       " '__reduce_ex__',\n",
       " '__repr__',\n",
       " '__setattr__',\n",
       " '__sizeof__',\n",
       " '__str__',\n",
       " '__subclasshook__',\n",
       " '__weakref__',\n",
       " 'display',\n",
       " 'level',\n",
       " 'name']"
      ]
     },
     "execution_count": 10,
     "metadata": {},
     "output_type": "execute_result"
    }
   ],
   "source": [
    "dir(p1) # 属性を確認。display,name,level"
   ]
  },
  {
   "cell_type": "markdown",
   "id": "216d9e9a-6875-4492-9404-1613d3c88e22",
   "metadata": {
    "slideshow": {
     "slide_type": "slide"
    }
   },
   "source": [
    "クラスのポイント  \n",
    "__init__()  \n",
    "・クラスが持つ状態を定義する\n",
    "・クラス内で使う変数の初期化  \n",
    "・引数selfは必ず与える  \n",
    "self  \n",
    "・クラスに属していることを明示  \n",
    "・self.で始まる変数はインスタンス変数と呼ばれ、オブジェクトの中で永続的に使える変数"
   ]
  },
  {
   "cell_type": "markdown",
   "id": "55a72982-e2e6-42f8-9e36-366688a559a2",
   "metadata": {
    "slideshow": {
     "slide_type": "slide"
    }
   },
   "source": [
    "問題10  \n",
    "(1)次の状態とメソッドを持ったHumanクラスを作りなさい。  "
   ]
  },
  {
   "cell_type": "markdown",
   "id": "327a2b6c-ac39-4195-bf5f-c50463117e05",
   "metadata": {
    "slideshow": {
     "slide_type": "slide"
    }
   },
   "source": [
    "状態"
   ]
  },
  {
   "cell_type": "markdown",
   "id": "cf80d4a2-c9db-4da0-b8f3-a69cd417fe06",
   "metadata": {},
   "source": [
    "|フィールド|意味|初期値|  \n",
    "|:---:|:--:|:--:|\n",
    "|health|体力|100|\n",
    "|time|持ち時間|10|\n",
    "|achieve|業績|0|"
   ]
  },
  {
   "cell_type": "markdown",
   "id": "75d9e71f-97ac-4e5a-bb56-616b9ddce1b2",
   "metadata": {},
   "source": [
    "メソッド"
   ]
  },
  {
   "cell_type": "markdown",
   "id": "66d9f107-9b42-4c25-baed-9feada54737a",
   "metadata": {},
   "source": [
    "|メソッド|詳細|\n",
    "|:-- |:--|\n",
    "|work：体力を消費して業績を伸ばす|体力を｢50｣、持ち時間を｢1｣消費し、業績を｢1｣増やす|\n",
    "|rest：持ち時間を消費して体力を回復する|持ち時間を｢3｣消費し、体力を｢50｣回復する|"
   ]
  },
  {
   "cell_type": "markdown",
   "id": "f0a5ee66-df6e-49d1-aa45-fa83790d31e3",
   "metadata": {
    "slideshow": {
     "slide_type": "slide"
    }
   },
   "source": [
    "(2)human1のインスタンスを作成し、初期値、work時、rest時の状態を表示しなさい。"
   ]
  },
  {
   "cell_type": "code",
   "execution_count": 13,
   "id": "2ea5e48f-a016-44b9-89fe-1e3d8bccc916",
   "metadata": {
    "slideshow": {
     "slide_type": "slide"
    }
   },
   "outputs": [],
   "source": [
    "class Human:\n",
    "    def __init__(self):\n",
    "        print('初期値')\n",
    "        self.health = 100\n",
    "        self.time = 10\n",
    "        self.achieve = 0\n",
    "    \n",
    "    def work(self):\n",
    "        print('work時')\n",
    "        self.achieve += 1\n",
    "        self.time -= 1\n",
    "        self.health -= 50\n",
    "    \n",
    "    def rest(self):\n",
    "        print('rest時')\n",
    "        self.time -= 3\n",
    "        self.health += 50"
   ]
  },
  {
   "cell_type": "code",
   "execution_count": 14,
   "id": "17afc725-dcf7-4693-9101-c3a83aa8e67b",
   "metadata": {
    "slideshow": {
     "slide_type": "slide"
    }
   },
   "outputs": [
    {
     "name": "stdout",
     "output_type": "stream",
     "text": [
      "初期値\n",
      "health: 100\n",
      "time: 10\n",
      "achieve: 0\n"
     ]
    }
   ],
   "source": [
    "human1 = Human()\n",
    "print('health: {}'.format(human1.health))\n",
    "print('time: {}'.format(human1.time))\n",
    "print('achieve: {}'.format(human1.achieve))"
   ]
  },
  {
   "cell_type": "code",
   "execution_count": 15,
   "id": "91e9b5e8-183d-40da-90e9-121d145260c2",
   "metadata": {
    "slideshow": {
     "slide_type": "slide"
    }
   },
   "outputs": [
    {
     "name": "stdout",
     "output_type": "stream",
     "text": [
      "work時\n",
      "health: 50\n",
      "time: 9\n",
      "achieve: 1\n"
     ]
    }
   ],
   "source": [
    "human1.work()\n",
    "print('health: {}'.format(human1.health))\n",
    "print('time: {}'.format(human1.time))\n",
    "print('achieve: {}'.format(human1.achieve))"
   ]
  },
  {
   "cell_type": "code",
   "execution_count": 16,
   "id": "1fccf815-d743-4983-bc7f-7445f0860ab2",
   "metadata": {
    "slideshow": {
     "slide_type": "slide"
    }
   },
   "outputs": [
    {
     "name": "stdout",
     "output_type": "stream",
     "text": [
      "rest時\n",
      "health: 100\n",
      "time: 6\n",
      "achieve: 1\n"
     ]
    }
   ],
   "source": [
    "human1.rest()\n",
    "print('health: {}'.format(human1.health))\n",
    "print('time: {}'.format(human1.time))\n",
    "print('achieve: {}'.format(human1.achieve))"
   ]
  },
  {
   "cell_type": "markdown",
   "id": "d54bbb05-8545-43f6-b3f3-2b7a8eea8e5e",
   "metadata": {
    "slideshow": {
     "slide_type": "slide"
    }
   },
   "source": [
    "### クラスの継承"
   ]
  },
  {
   "cell_type": "markdown",
   "id": "b151483b-193f-4286-ad6e-55e4b300cb0c",
   "metadata": {
    "slideshow": {
     "slide_type": "slide"
    }
   },
   "source": [
    "あるクラスの情報を受け継ぎつつある状態を追加する  \n",
    "Humanクラスを継承したNewtypeクラスを定義する"
   ]
  },
  {
   "cell_type": "markdown",
   "id": "cf6493a8-14f5-477c-a9dd-298c9844d9a4",
   "metadata": {},
   "source": [
    "|メソッド|詳細|\n",
    "|:-- | :-- |\n",
    "|ablity：体力消費は少なく業績を大きく伸ばす|体力を｢20｣、持ち時間を｢3｣消費し、業績を｢5｣増やす|"
   ]
  },
  {
   "cell_type": "code",
   "execution_count": 17,
   "id": "e193d027-a614-4cd6-b6e6-a08c957a345d",
   "metadata": {
    "slideshow": {
     "slide_type": "slide"
    }
   },
   "outputs": [],
   "source": [
    "class Newtype(Human):\n",
    "    def ablity(self):\n",
    "        print('ablity時')\n",
    "        self.achieve += 5\n",
    "        self.health -= 20\n",
    "        self.time -= 3"
   ]
  },
  {
   "cell_type": "code",
   "execution_count": 21,
   "id": "023e56ac-ca96-4d1c-9311-4db962962161",
   "metadata": {
    "slideshow": {
     "slide_type": "slide"
    }
   },
   "outputs": [
    {
     "name": "stdout",
     "output_type": "stream",
     "text": [
      "初期値\n",
      "work時\n",
      "rest時\n",
      "ablity時\n",
      "health: 80\n",
      "time: 3\n",
      "achieve: 6\n"
     ]
    }
   ],
   "source": [
    "newtype = Newtype()\n",
    "newtype.work()\n",
    "newtype.rest()\n",
    "newtype.ablity()\n",
    "print('health: {}'.format(newtype.health))\n",
    "print('time: {}'.format(newtype.time))\n",
    "print('achieve: {}'.format(newtype.achieve))"
   ]
  },
  {
   "cell_type": "markdown",
   "id": "4d275c0b-29dc-462c-92b1-d141b6069c17",
   "metadata": {
    "slideshow": {
     "slide_type": "slide"
    }
   },
   "source": [
    "グーグルコラボでタートルを動かして絵を描く"
   ]
  },
  {
   "cell_type": "raw",
   "id": "1a3087fd-0c15-437a-8b99-9fa92c18ebb4",
   "metadata": {
    "slideshow": {
     "slide_type": "slide"
    }
   },
   "source": [
    "!pip3 install ColabTurtle\n",
    "from ColabTurtle.Turtle import *"
   ]
  },
  {
   "cell_type": "raw",
   "id": "f34cf580-e746-40cb-8d2d-7a70d513fe0f",
   "metadata": {
    "slideshow": {
     "slide_type": "slide"
    }
   },
   "source": [
    "initializeTurtle()    # 描画エリアの初期化\n",
    "\n",
    "for i in range(3):    # ３回繰り返す\n",
    "    forward(200)      # ２００進む\n",
    "    left(120)         # 左に１２０度回転"
   ]
  },
  {
   "cell_type": "raw",
   "id": "69650a04-f4b8-483f-ba2b-a0c15d759b5f",
   "metadata": {
    "slideshow": {
     "slide_type": "slide"
    }
   },
   "source": [
    "initializeTurtle()    # 描画エリアの初期化\n",
    "\n",
    "for i in range(4):    # ４回繰り返す\n",
    "    forward(200)      # ２００進む\n",
    "    left(90)          # 左に９０度回転"
   ]
  },
  {
   "cell_type": "markdown",
   "id": "a290303e-eb09-4b92-9534-06dfc74579ab",
   "metadata": {
    "slideshow": {
     "slide_type": "slide"
    }
   },
   "source": [
    "星型を描いてみましょう"
   ]
  },
  {
   "cell_type": "raw",
   "id": "02f2158f-6942-4561-8597-fbbf7870fe8f",
   "metadata": {
    "slideshow": {
     "slide_type": "slide"
    }
   },
   "source": [
    "initializeTurtle()    # 描画エリアの初期化\n",
    "\n",
    "for i in range(5):    # ５回繰り返す\n",
    "    forward(200)      # ２００進む\n",
    "    left(144)         # 左に１４４度回転"
   ]
  },
  {
   "cell_type": "markdown",
   "id": "43899b0e-3b60-4dcd-9878-8b7b0cdf21bf",
   "metadata": {
    "slideshow": {
     "slide_type": "slide"
    }
   },
   "source": [
    "中級編"
   ]
  },
  {
   "cell_type": "markdown",
   "id": "b0a71e53-0dfd-4af1-913d-c66333d7346e",
   "metadata": {
    "slideshow": {
     "slide_type": "slide"
    }
   },
   "source": [
    "イチョウの葉っぱ"
   ]
  },
  {
   "cell_type": "raw",
   "id": "1231805c-3a60-47f8-b6c4-75e7eaebd1aa",
   "metadata": {
    "slideshow": {
     "slide_type": "slide"
    }
   },
   "source": [
    "initializeTurtle(initial_speed=10)\n",
    "color('yellow')　#　ペンの色指定\n",
    "bgcolor('white')　#バックグラウンドの色指定\n",
    "min_length=15　#　分枝の最小の長さ\n",
    "def draw_branch(l, w):\n",
    "    left(15)\n",
    "    draw_stick(l, w)\n",
    "    right(30)\n",
    "    draw_stick(l, w)\n",
    "    left(15)\n",
    "def draw_stick(l, w):\n",
    "    width(w)\n",
    "    forward(l)\n",
    "    if min_length < l:\n",
    "        draw_branch(math.ceil(l*0.8), math.ceil(w*0.7))\n",
    "    backward(l)\n",
    "draw_branch(40, 15)"
   ]
  },
  {
   "cell_type": "markdown",
   "id": "858e35fd-86bd-409f-af18-9e4b8c04c9fc",
   "metadata": {
    "slideshow": {
     "slide_type": "slide"
    }
   },
   "source": [
    "クラスを用いたデンドリマー描画"
   ]
  },
  {
   "cell_type": "raw",
   "id": "eb2f8a21",
   "metadata": {
    "slideshow": {
     "slide_type": "slide"
    }
   },
   "source": [
    "initializeTurtle(initial_speed=10)\n",
    "color('green')\n",
    "bgcolor('white')\n",
    "\n",
    "min_length=30\n",
    "\n",
    "class Flower(object):\n",
    "    def __init__(self, l, w):\n",
    "        self.l = l\n",
    "        self.w = w\n",
    "\n",
    "    def draw_branch(self):\n",
    "        left(20)\n",
    "        self.set_range()\n",
    "        right(40)\n",
    "        self.set_range()\n",
    "        left(20)"
   ]
  },
  {
   "cell_type": "raw",
   "id": "6eca4961",
   "metadata": {
    "slideshow": {
     "slide_type": "slide"
    }
   },
   "source": [
    "    def set_range(self):\n",
    "        width(self.w)\n",
    "        forward(self.l)\n",
    "        if min_length < self.l:\n",
    "            draw_branch(math.ceil(self.l * 0.8), math.ceil(self.w * 0.5))\n",
    "        backward(self.l)\n",
    "\n",
    "    def set_start(self, a, b):\n",
    "        width(a)\n",
    "        forward(b)\n",
    "\n",
    "    def set_end(self, b, c):\n",
    "        backward(b)\n",
    "        right(c)"
   ]
  },
  {
   "cell_type": "code",
   "execution_count": null,
   "id": "42ca6e7d",
   "metadata": {
    "slideshow": {
     "slide_type": "slide"
    }
   },
   "outputs": [],
   "source": [
    "f = Flower(50, 10)\n",
    "\n",
    "for _ in range(6):\n",
    "    f.set_start(11, 55)\n",
    "    f.draw_branch()\n",
    "    f.set_end(55, 60)"
   ]
  },
  {
   "attachments": {
    "image.png": {
     "image/png": "[encoded data removed]"
    }
   },
   "cell_type": "markdown",
   "id": "7267e9fd",
   "metadata": {
    "slideshow": {
     "slide_type": "slide"
    }
   },
   "source": [
    "![image.png](attachment:image.png)"
   ]
  },
  {
   "cell_type": "markdown",
   "id": "2273a8da-9691-4dc3-8198-a293aac5ae39",
   "metadata": {},
   "source": [
    "東大のPythonプログラミング入門教材：https://sites.google.com/view/ut-python/resource/%E6%95%99%E6%9D%90%E8%AC%9B%E7%BE%A9%E5%8B%95%E7%94%BB"
   ]
  }
 ],
 "metadata": {
  "celltoolbar": "Slideshow",
  "kernelspec": {
   "display_name": "Python 3",
   "language": "python",
   "name": "python3"
  },
  "language_info": {
   "codemirror_mode": {
    "name": "ipython",
    "version": 3
   },
   "file_extension": ".py",
   "mimetype": "text/x-python",
   "name": "python",
   "nbconvert_exporter": "python",
   "pygments_lexer": "ipython3",
   "version": "3.9.4"
  }
 },
 "nbformat": 4,
 "nbformat_minor": 5
}
